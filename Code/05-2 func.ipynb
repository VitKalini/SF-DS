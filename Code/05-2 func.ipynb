{
 "cells": [
  {
   "cell_type": "code",
   "execution_count": 11,
   "metadata": {},
   "outputs": [
    {
     "name": "stdout",
     "output_type": "stream",
     "text": [
      "это простая строка\n",
      "этопростаястрока\n",
      "{'я', 'к', 'с', 'п', 'т', 'э', 'о', 'р', 'а'}\n",
      "this is a simple string\n",
      "thisisasimplestring\n",
      "{'t', 'l', 'e', 'p', 'a', 'h', 'r', 'n', 'm', 'i', 'g', 's'}\n"
     ]
    },
    {
     "data": {
      "text/plain": [
       "12"
      ]
     },
     "execution_count": 11,
     "metadata": {},
     "output_type": "execute_result"
    }
   ],
   "source": [
    "#2.3\n",
    "#На первом этапе напишите функцию get_count_unique_symbols(), которая:\n",
    "#принимает на вход строку s, приводит её к нижнему регистру,\n",
    "#убирает из неё все пробелы,возвращает количество уникальных символов в строке.\n",
    "\n",
    "def get_count_unique_symbols(s):\n",
    "    s=s.lower()\n",
    "    s=s.replace(' ','')\n",
    "    s=set(s)\n",
    "    return len(s)\n",
    "get_count_unique_symbols('Это простая строка')\n",
    "get_count_unique_symbols('This is a simple string')"
   ]
  },
  {
   "cell_type": "code",
   "execution_count": 15,
   "metadata": {},
   "outputs": [
    {
     "name": "stdout",
     "output_type": "stream",
     "text": [
      "Это простая строка\n",
      "Great phrase\n",
      "('школа', 'school')\n"
     ]
    }
   ],
   "source": [
    "#2.4\n",
    "#На втором этапе напишите функцию get_min_string(), которая:\n",
    "#принимает на вход две строки s1 и s2,возвращает ту, в которой количество уникальных символов меньше.\n",
    "#воспользуйтесь функцией get_count_unique_symbols(), которую вы написали в предыдущем задании. Поместите ее определение и вызов внутрь функции get_min_string().\n",
    "\n",
    "def get_min_string(s1,s2):\n",
    "    def get_count_unique_symbols(s):\n",
    "        s=s.lower()\n",
    "        s=s.replace(' ','')\n",
    "        s=set(s)\n",
    "        return len(s)\n",
    "    s1_len=get_count_unique_symbols(s1)\n",
    "    s2_len=get_count_unique_symbols(s2)\n",
    "    if s1_len<s2_len:\n",
    "        return s1\n",
    "    elif s2_len<s1_len:\n",
    "        return s2\n",
    "    else:\n",
    "        return(s1,s2)\n",
    "print(get_min_string(s1='Это простая строка', s2='This is a simple string'))\n",
    "print(get_min_string(s1='Отличная фраза', s2='Great phrase'))\n",
    "print(get_min_string(s1='школа', s2='school'))\n"
   ]
  },
  {
   "cell_type": "code",
   "execution_count": 17,
   "metadata": {},
   "outputs": [
    {
     "name": "stdout",
     "output_type": "stream",
     "text": [
      "78.53999999999999\n",
      "23.561999999999998\n"
     ]
    }
   ],
   "source": [
    "#2.9\n",
    "#Напишите функции calculate_area_circle() и calculate_area_ellipse().\n",
    "#Обе функции должны использовать внутри себя локальные переменные с одним и тем же именем area (площади фигур) и глобальную переменную pi, объявленную вне этих функций.\n",
    "pi=3.1416\n",
    "def calculate_area_circle(r):\n",
    "    area=pi*r**2\n",
    "    return area\n",
    "def calculate_area_ellipse(a,b):\n",
    "    area=a*b*pi\n",
    "    return area\n",
    "print(calculate_area_circle(r=5))\n",
    "print(calculate_area_ellipse(a=3, b=2.5))"
   ]
  },
  {
   "cell_type": "code",
   "execution_count": 20,
   "metadata": {},
   "outputs": [
    {
     "name": "stdout",
     "output_type": "stream",
     "text": [
      "199000\n"
     ]
    }
   ],
   "source": [
    "#3.2\n",
    "#Вам необходимо написать программу, которая будет вычислять сумму, оставшуюся на счёте у пользователя банковской карты. Посмотрите на код ниже и внесите в него исправление так, чтобы он работал верно.\n",
    "def cash(less_money):\n",
    "        global money\n",
    "        money -= less_money\n",
    "        return money\n",
    "money = 200000\n",
    "print(cash(1000))"
   ]
  },
  {
   "cell_type": "code",
   "execution_count": 28,
   "metadata": {},
   "outputs": [
    {
     "name": "stdout",
     "output_type": "stream",
     "text": [
      "1136.3636363636363\n"
     ]
    }
   ],
   "source": [
    "#3.3\n",
    "#Перепишите следующий код, не используя global\n",
    "currencies= {'USD': 74, 'EUR': 88, 'GBP': 98 , 'CHF': 82}\n",
    "money=100000\n",
    "def convert(currencies,money,currency):\n",
    "    money = money / currencies[currency]\n",
    "    return money\n",
    "convert_money = convert(currencies, money, 'EUR')  \n",
    "print(convert_money)"
   ]
  },
  {
   "cell_type": "code",
   "execution_count": 25,
   "metadata": {},
   "outputs": [
    {
     "name": "stdout",
     "output_type": "stream",
     "text": [
      "None\n"
     ]
    }
   ],
   "source": [
    "currencies = {'USD': 74, 'EUR': 88, 'GBP': 98 , 'CHF': 82}\n",
    "# Общее количество денег на счету, которое нужно конвертировать\n",
    "money = 100000\n",
    "# Функция для конвертации валюты, аргумент - наименование валюты\n",
    "def convert(currency):\n",
    "    # Объявляем, что money - глобальная переменная\n",
    "    global money\n",
    "    # Производим конвертацию - делим количество денег на счету на соответствующий курс\n",
    "    money = money / currencies[currency]\n",
    "\n",
    "# Вызываем функцию для конвертации валюты\n",
    "print(convert('USD'))"
   ]
  },
  {
   "cell_type": "code",
   "execution_count": 29,
   "metadata": {},
   "outputs": [],
   "source": [
    "#3.5\n",
    "#при попытке вызвать функцию: count_occurrences('This is simple string', symbol='t') вызывается исключение UnboundLocalError\n",
    "\n",
    "# Функция для вычисления количества символов (symbol) в строке s\n",
    "def count_occurrences(s, symbol):\n",
    "    # Внутренняя функция для предобработки строки s\n",
    "    def preprocessing_s():\n",
    "        nonlocal s\n",
    "        # Удаляем пробелы из строки\n",
    "        s = s.replace(' ', '')\n",
    "        # Приводим строку к нижнему регистру\n",
    "        s = s.lower()\n",
    "    # Вызываем функцию для предобработки аргумента s\n",
    "    preprocessing_s()\n",
    "    # Считаем количество символов symbol в строке s и возвращаем результат\n",
    "    return s.count(symbol)"
   ]
  },
  {
   "cell_type": "code",
   "execution_count": 7,
   "metadata": {},
   "outputs": [
    {
     "name": "stdout",
     "output_type": "stream",
     "text": [
      "ютуб 248\n",
      "вк 514\n",
      "радио 339\n"
     ]
    },
    {
     "data": {
      "text/plain": [
       "{'ютуб': 248, 'вк': 514, 'радио': 339}"
      ]
     },
     "execution_count": 7,
     "metadata": {},
     "output_type": "execute_result"
    }
   ],
   "source": [
    "#3.7\n",
    "#Нам необходимо проанализировать, какая из рекламных кампаний оказалась наиболее успешной. Данные хранятся в словаре advertising_campaigns, где ключ — это рекламный канал, а значение — список, в котором задано суммарное количество вновь нажавших на кнопку рекламного баннера в 2021 и 2022 годах.\n",
    "#Для каждого рекламного канала нужно получить максимальное количество откликнувшихся за 2021 и 2022 годы.\n",
    "\n",
    "advertising_campaigns = {'ютуб': [212, 248], 'вк': [514, 342], 'радио': [339, 125]}\n",
    "# Создаём новый пустой словарь  \n",
    "advertising_campaigns_max = {}  \n",
    "# Создаём цикл по ключам исходного словаря  \n",
    "for key in advertising_campaigns:  \n",
    "    # Вычисляем максимум в списке, лежащем по ключу key  \n",
    "    max1 = max(advertising_campaigns[key])  \n",
    "    # Добавляем максимум в новый словарь  \n",
    "    advertising_campaigns_max[key] = max1\n",
    "    print(key,max1)\n",
    "advertising_campaigns_max"
   ]
  },
  {
   "cell_type": "code",
   "execution_count": 8,
   "metadata": {},
   "outputs": [
    {
     "name": "stdout",
     "output_type": "stream",
     "text": [
      "False\n",
      "False\n",
      "True\n",
      "False\n"
     ]
    }
   ],
   "source": [
    "#4.3\n",
    "#Напишите функцию is_leap(year), которая принимает на вход год и возвращает True, если год високосный, иначе — False.\n",
    "\n",
    "def is_leap(year):\n",
    "    if year%400==0:\n",
    "        return True\n",
    "    elif year%100==0:\n",
    "        return False\n",
    "    elif year%4==0:\n",
    "        return True\n",
    "    else:\n",
    "        return False\n",
    "print(is_leap(2001))\n",
    "# True\n",
    "print(is_leap(1900))\n",
    "# False\n",
    "print(is_leap(2020))\n",
    "# True\n",
    "print(is_leap(1700))\n",
    "# False    "
   ]
  },
  {
   "cell_type": "code",
   "execution_count": null,
   "metadata": {},
   "outputs": [],
   "source": []
  },
  {
   "cell_type": "code",
   "execution_count": 11,
   "metadata": {},
   "outputs": [
    {
     "name": "stdout",
     "output_type": "stream",
     "text": [
      "False\n"
     ]
    }
   ],
   "source": [
    "#4.4\n",
    "#делайте функцию is_leap() из предыдущего задания внутренней функцией функции check_date().\n",
    "\n",
    "# Функция для проверки корректности даты\n",
    "def check_date(day, month, year):\n",
    "\n",
    "    def is_leap(year):\n",
    "        if year%400==0:  \n",
    "            leap_year=True \n",
    "            return leap_year\n",
    "        elif year%100==0: \n",
    "            leap_year=False \n",
    "            return leap_year\n",
    "        elif year%4==0: \n",
    "            leap_year=True \n",
    "            return leap_year\n",
    "        else:\n",
    "            leap_year=False\n",
    "            return leap_year\n",
    "    leap_year=is_leap(year)\n",
    "    # Проверяем день, месяц и год на целочисленность\n",
    "    if (type(day) is not int) or (type(month) is not int) or (type(year) is not int):\n",
    "        return False\n",
    "    # Проверяем год на заданный диапазон\n",
    "    if (year <= 1900) or (year >= 2022):\n",
    "        return False\n",
    "    # Проверяем месяц на заданный диапазон     \n",
    "    if (month < 1) or (month > 12):\n",
    "        return False\n",
    "    # Проверяем день на заданный диапазон  \n",
    "    if (day < 1) or (day > 31): \n",
    "        return False\n",
    "    # Проверяем апрель, июнь, сентябрь и ноябрь на количество дней\n",
    "    if (month in [4,6,9,11]) and (day > 30):\n",
    "        return False\n",
    "    # Проверяем количество дней в феврале\n",
    "    if leap_year==False:\n",
    "        if month == 2 and day > 28:\n",
    "            return False\n",
    "    if leap_year==True:\n",
    "        if month == 2 and day > 29:\n",
    "            return False\n",
    "    return True\n",
    "print(check_date(29, 2, 2001))"
   ]
  },
  {
   "cell_type": "code",
   "execution_count": 13,
   "metadata": {},
   "outputs": [
    {
     "name": "stdout",
     "output_type": "stream",
     "text": [
      "[('Petrova', 'Maria', 'Ivanovna', 13, 3, 2003), ('Ivanov', 'Sergej', None, 24, 9, 1995), ('Smith', 'John', None, 13, 2, 2003)]\n"
     ]
    },
    {
     "ename": "ValueError",
     "evalue": "Invalid Date!",
     "output_type": "error",
     "traceback": [
      "\u001b[1;31m---------------------------------------------------------------------------\u001b[0m",
      "\u001b[1;31mValueError\u001b[0m                                Traceback (most recent call last)",
      "Cell \u001b[1;32mIn[13], line 54\u001b[0m\n\u001b[0;32m     52\u001b[0m reg \u001b[39m=\u001b[39m register(\u001b[39m'\u001b[39m\u001b[39mSmith\u001b[39m\u001b[39m'\u001b[39m, \u001b[39m'\u001b[39m\u001b[39mJohn\u001b[39m\u001b[39m'\u001b[39m, \u001b[39m'\u001b[39m\u001b[39m13.02.2003\u001b[39m\u001b[39m'\u001b[39m, registry\u001b[39m=\u001b[39mreg)\n\u001b[0;32m     53\u001b[0m \u001b[39mprint\u001b[39m(reg)\n\u001b[1;32m---> 54\u001b[0m reg \u001b[39m=\u001b[39m register(\u001b[39m'\u001b[39;49m\u001b[39mIvanov\u001b[39;49m\u001b[39m'\u001b[39;49m, \u001b[39m'\u001b[39;49m\u001b[39mSergej\u001b[39;49m\u001b[39m'\u001b[39;49m, \u001b[39m'\u001b[39;49m\u001b[39m24.13.1995\u001b[39;49m\u001b[39m'\u001b[39;49m)\n",
      "Cell \u001b[1;32mIn[13], line 43\u001b[0m, in \u001b[0;36mregister\u001b[1;34m(surname, name, date, middle_name, registry)\u001b[0m\n\u001b[0;32m     40\u001b[0m     \u001b[39mreturn\u001b[39;00m \u001b[39mTrue\u001b[39;00m\n\u001b[0;32m     42\u001b[0m \u001b[39mif\u001b[39;00m check_date(day, month, year)\u001b[39m==\u001b[39m\u001b[39mFalse\u001b[39;00m:\n\u001b[1;32m---> 43\u001b[0m     \u001b[39mraise\u001b[39;00m \u001b[39mValueError\u001b[39;00m(\u001b[39m\"\u001b[39m\u001b[39mInvalid Date!\u001b[39m\u001b[39m\"\u001b[39m)\n\u001b[0;32m     45\u001b[0m registry\u001b[39m.\u001b[39mappend((surname, name, middle_name, day, month, year))\n\u001b[0;32m     46\u001b[0m \u001b[39mreturn\u001b[39;00m registry\n",
      "\u001b[1;31mValueError\u001b[0m: Invalid Date!"
     ]
    }
   ],
   "source": [
    "#4.5\n",
    "#Модифицируйте функцию register() так, чтобы она выбрасывала исключение ValueError(\"Invalid Date!\"), если введённая пользователем дата является корректной.\n",
    "def register(surname, name, date, middle_name=None, registry=None):\n",
    "\n",
    "    def preprocessing_date(date):\n",
    "        day, month, year = date.split('.')\n",
    "        day, month, year = int(day), int(month), int(year)\n",
    "        return day, month, year\n",
    "    if registry is None:\n",
    "        registry = list()\n",
    "    day, month, year = preprocessing_date(date)\n",
    "\n",
    "    def check_date(day, month, year):\n",
    "        def is_leap(year):\n",
    "            if year%400==0: return True\n",
    "            elif year%100==0: return False \n",
    "            elif year%4==0: return True\n",
    "            else: return False\n",
    "    # Проверяем день, месяц и год на целочисленность\n",
    "        if (type(day) is not int) or (type(month) is not int) or (type(year) is not int):\n",
    "            return False\n",
    "    # Проверяем год на заданный диапазон\n",
    "        if (year <= 1900) or (year >= 2022):\n",
    "            return False\n",
    "    # Проверяем месяц на заданный диапазон     \n",
    "        if (month < 1) or (month > 12):\n",
    "            return False\n",
    "    # Проверяем день на заданный диапазон  \n",
    "        if (day < 1) or (day > 31): \n",
    "            return False\n",
    "    # Проверяем апрель, июнь, сентябрь и ноябрь на количество дней\n",
    "        if (month in [4,6,9,11]) and (day > 30):\n",
    "            return False\n",
    "    # Проверяем количество дней в феврале\n",
    "        if month==2:\n",
    "            if is_leap(year):\n",
    "                if day > 29: return False\n",
    "            else:\n",
    "                if day > 29: return False\n",
    "        return True\n",
    "    \n",
    "    if check_date(day, month, year)==False:\n",
    "        raise ValueError(\"Invalid Date!\")\n",
    "\n",
    "    registry.append((surname, name, middle_name, day, month, year))\n",
    "    return registry\n",
    "\n",
    "\n",
    "\n",
    "reg = register('Petrova', 'Maria', '13.03.2003', 'Ivanovna')\n",
    "reg = register('Ivanov', 'Sergej', '24.09.1995', registry=reg)\n",
    "reg = register('Smith', 'John', '13.02.2003', registry=reg)\n",
    "print(reg)\n",
    "reg = register('Ivanov', 'Sergej', '24.13.1995')"
   ]
  },
  {
   "cell_type": "code",
   "execution_count": 18,
   "metadata": {},
   "outputs": [
    {
     "name": "stdout",
     "output_type": "stream",
     "text": [
      "True\n",
      "False\n"
     ]
    }
   ],
   "source": [
    "#4.6\n",
    "#Реализуйте функцию check_exist_triangle(a, b, c), которая возвращает True, если треугольник с длинами сторон a, b и c существует, и False — в обратном случае.\n",
    "\n",
    "def check_exist_triangle(a, b, c):\n",
    "    if a+b>c and a+c>b and b+c>a:return True\n",
    "    return False\n",
    "print(check_exist_triangle(a=3, b=4, c=5))\n",
    "## True\n",
    "print(check_exist_triangle(a=1.8, b=1.8, c=3.6))\n",
    "## False"
   ]
  },
  {
   "cell_type": "code",
   "execution_count": 19,
   "metadata": {},
   "outputs": [
    {
     "name": "stdout",
     "output_type": "stream",
     "text": [
      "{'a': 2.1360009363293826, 'b': 2.692582403567252, 'c': 4.422951503238533, 'perimeter': 9.251534843135168, 'area': 2.1250000000000027}\n",
      "{'a': 3.0, 'b': 4.0, 'c': 5.0, 'perimeter': 12.0, 'area': 6.0}\n"
     ]
    },
    {
     "ename": "ValueError",
     "evalue": "Треугольник не существует",
     "output_type": "error",
     "traceback": [
      "\u001b[1;31m---------------------------------------------------------------------------\u001b[0m",
      "\u001b[1;31mValueError\u001b[0m                                Traceback (most recent call last)",
      "Cell \u001b[1;32mIn[19], line 47\u001b[0m\n\u001b[0;32m     45\u001b[0m \u001b[39mprint\u001b[39m(triangle(p1\u001b[39m=\u001b[39m(\u001b[39m1\u001b[39m, \u001b[39m1\u001b[39m), p2\u001b[39m=\u001b[39m(\u001b[39m1\u001b[39m, \u001b[39m4\u001b[39m), p3\u001b[39m=\u001b[39m(\u001b[39m5\u001b[39m, \u001b[39m1\u001b[39m)))\n\u001b[0;32m     46\u001b[0m \u001b[39m## {'a': 3.0, 'b': 4.0, 'c': 5.0, 'perimeter': 12.0, 'area': 6.0}\u001b[39;00m\n\u001b[1;32m---> 47\u001b[0m \u001b[39mprint\u001b[39m(triangle(p1\u001b[39m=\u001b[39;49m(\u001b[39m2.5\u001b[39;49m, \u001b[39m2\u001b[39;49m), p2\u001b[39m=\u001b[39;49m(\u001b[39m4\u001b[39;49m, \u001b[39m1\u001b[39;49m), p3\u001b[39m=\u001b[39;49m(\u001b[39m1\u001b[39;49m, \u001b[39m3\u001b[39;49m)))\n\u001b[0;32m     48\u001b[0m \u001b[39m## ValueError: Треугольник не существует\u001b[39;00m\n",
      "Cell \u001b[1;32mIn[19], line 36\u001b[0m, in \u001b[0;36mtriangle\u001b[1;34m(p1, p2, p3)\u001b[0m\n\u001b[0;32m     33\u001b[0m     \u001b[39mreturn\u001b[39;00m \u001b[39mFalse\u001b[39;00m\n\u001b[0;32m     35\u001b[0m \u001b[39mif\u001b[39;00m check_exist_triangle(a,b,c)\u001b[39m==\u001b[39m\u001b[39mFalse\u001b[39;00m:\n\u001b[1;32m---> 36\u001b[0m     \u001b[39mraise\u001b[39;00m \u001b[39mValueError\u001b[39;00m(\u001b[39m\"\u001b[39m\u001b[39mТреугольник не существует\u001b[39m\u001b[39m\"\u001b[39m)\n\u001b[0;32m     38\u001b[0m perimeter \u001b[39m=\u001b[39m calculate_perimeter_triangle(a, b, c)\n\u001b[0;32m     39\u001b[0m area \u001b[39m=\u001b[39m calculate_area_triangle(a, b, c)\n",
      "\u001b[1;31mValueError\u001b[0m: Треугольник не существует"
     ]
    }
   ],
   "source": [
    "#4.7\n",
    "#Модифицируйте функцию triangle() так, чтобы эта функция выбрасывала исключение ValueError(\"Треугольник не существует\"), если треугольник не существует.\n",
    "\n",
    "def triangle(p1, p2, p3):\n",
    "    # Функция для вычисления сторон треугольника\n",
    "    # По умолчанию параметры функции берутся из объемлющей области видимости\n",
    "    def sides(p1, p2, p3):\n",
    "        # Распаковываем кортежи для удобства, “;” означает новую строку кода\n",
    "        x1, y1 = p1; x2, y2 = p2; x3, y3 = p3\n",
    "        # Вычисляем стороны по теореме Пифагора\n",
    "        a = ((x2 - x1) ** 2 + (y2 - y1)** 2) ** 0.5\n",
    "        b = ((x3 - x1) ** 2 + (y3 - y1)** 2) ** 0.5\n",
    "        c = ((x3 - x2) ** 2 + (y3 - y2)** 2) ** 0.5\n",
    "        return a, b, c\n",
    "\n",
    "    # Функция для вычисления периметра треугольника\n",
    "    def calculate_perimeter_triangle(a, b, c):\n",
    "        # Периметр — сумма всех сторон треугольника\n",
    "        perimeter = a + b + c\n",
    "        return perimeter\n",
    "\n",
    "    # Функция для вычисления площади треугольника\n",
    "    def calculate_area_triangle(a, b, c):\n",
    "        # Вычисляем полупериметр \n",
    "        # Значение perimeter берётся из объемлющей области видимости\n",
    "        p = perimeter / 2\n",
    "        # Вычисляем площадь по формуле Герона\n",
    "        area = (p * (p - a) * (p - b) * (p - c)) ** 0.5\n",
    "        return area\n",
    "    a, b, c = sides(p1, p2, p3)\n",
    "    def check_exist_triangle(a, b, c):\n",
    "        if a+b>c and a+c>b and b+c>a:return True\n",
    "        return False\n",
    "    \n",
    "    if check_exist_triangle(a,b,c)==False:\n",
    "        raise ValueError(\"Треугольник не существует\")\n",
    "    \n",
    "    perimeter = calculate_perimeter_triangle(a, b, c)\n",
    "    area = calculate_area_triangle(a, b, c)\n",
    "    result = {'a': a, 'b': b, 'c': c, 'perimeter': perimeter, 'area': area}\n",
    "    return result\n",
    "\n",
    "print(triangle(p1=(2, 2), p2=(4, 1.25), p3=(1, 4.5)))\n",
    "## {'a': 2.1360009363293826, 'b': 2.692582403567252, 'c': 4.422951503238533, 'perimeter': 9.251534843135168, 'area': 2.1250000000000027}\n",
    "print(triangle(p1=(1, 1), p2=(1, 4), p3=(5, 1)))\n",
    "## {'a': 3.0, 'b': 4.0, 'c': 5.0, 'perimeter': 12.0, 'area': 6.0}\n",
    "print(triangle(p1=(2.5, 2), p2=(4, 1), p3=(1, 3)))\n",
    "## ValueError: Треугольник не существует"
   ]
  },
  {
   "cell_type": "code",
   "execution_count": 20,
   "metadata": {},
   "outputs": [
    {
     "name": "stdout",
     "output_type": "stream",
     "text": [
      "2.23606797749979\n",
      "1.4142135623730951\n"
     ]
    }
   ],
   "source": [
    "#4.8\n",
    "#Напишите функцию radius(), которая принимает на вход две точки (их координаты заданы кортежами) и возвращает радиус окружности.\n",
    "\n",
    "def radius(p1,p2):\n",
    "    x1,y1=p1; x2,y2=p2;\n",
    "    rad=((x2-x1)**2+(y2-y1)**2)**0.5\n",
    "    return rad\n",
    "print(radius(p1=(3, 2.5), p2=(4, 4.5)))\n",
    "## 2.23606797749979\n",
    "\n",
    "print(radius(p1=(0, 0), p2=(1, 1)))\n",
    "## 1.4142135623730951\n"
   ]
  },
  {
   "cell_type": "code",
   "execution_count": null,
   "metadata": {},
   "outputs": [],
   "source": [
    "#4.9\n",
    "#Напишите функцию circle(), которая принимает на вход две точки, чьи координаты записаны в виде кортежей.\n",
    "#Внутри себя функция содержит три вложенные функции:\n",
    "\n",
    "#radius() — функция для вычисления радиуса, которую мы писали в прошлом задании.\n",
    "#calculate_circumference() — функция для вычисления длины окружности (по сути периметра) по формуле:\n",
    "#L=2πr\n",
    "#Радиус окружности сделайте параметром функции.\n",
    "#calculate_area_circle() — функция для вычисления площади окружности по формуле:\n",
    "#S=πr²\n",
    "#Радиус окружности сделайте параметром функции.\n",
    "\n",
    "#Значение числа π задаётся глобальной переменной pi в основном блоке программы.\n",
    "#Функция circle() должна возвращать словарь с ключами 'r', 'circumference' и 'area'. Значениями должны быть рассчитанные радиус, длина окружности и её площадь соответственно.\n",
    "\n",
    "pi=3.1416\n",
    "\n",
    "def circle(p1,p2):\n",
    "    \n",
    "    def radius(p1,p2):\n",
    "        x1,y1=p1; x2,y2=p2\n",
    "        rad=((x2-x1)**2+(y2-y1)**2)**0.5\n",
    "        return rad\n",
    "\n",
    "    def calculate_circumference(rad):\n",
    "        circ=pi*2*rad\n",
    "        return circ\n",
    "\n",
    "    def calculate_area_circle(rad):\n",
    "        area=pi*rad**2\n",
    "        return area\n",
    "    \n",
    "    rad=radius(p1,p2)\n",
    "    circ=calculate_circumference(rad)\n",
    "    area=calculate_area_circle(rad)\n",
    "    result={'radius': rad, 'circumference': circ, 'area':area}\n",
    "    return result \n"
   ]
  },
  {
   "cell_type": "code",
   "execution_count": 22,
   "metadata": {},
   "outputs": [
    {
     "name": "stdout",
     "output_type": "stream",
     "text": [
      "(1.5, 1.0)\n",
      "(1.0, 1.0)\n"
     ]
    }
   ],
   "source": [
    "#4.10\n",
    "#Для рисования эллипса в нашем приложении пользователю нужно отметить мышкой на экране 3 точки:\n",
    "\n",
    "#P₁ — точка центра эллипса;\n",
    "#P₂ и P₃ — большая и малая полуоси эллипса.\n",
    "#Для вычисления площади эллипса и длины его окружности важно знать длины его полуосей (на рисунке они обозначены как a и b)\n",
    "#Учитывая все сказанное, напишите функцию semi_axes(), которая принимает на вход три параметра — точки p1, p2 и p3, представленные в виде кортежей. Гарантируется, что точка p1 всегда соответствует центру эллипса. Точки представлены в виде кортежей.\n",
    "\n",
    "def semi_axes(p1,p2,p3):\n",
    "    x1,y1=p1;x2,y2=p2;x3,y3=p3\n",
    "    a= ((x2-x1)**2+(y2-y1)**2)**0.5\n",
    "    b= ((x3-x1)**2+(y3-y1)**2)**0.5\n",
    "    return (a,b)\n",
    "\n",
    "print(semi_axes(p1=(3, 2.5), p2=(4.5, 2.5), p3=(3, 3.5)))\n",
    "## (1.5, 1.0)\n",
    "\n",
    "print(semi_axes(p1=(0, 0), p2=(0, 1), p3=(1, 0)))\n",
    "## (1.0, 1.0)\n"
   ]
  },
  {
   "cell_type": "code",
   "execution_count": 23,
   "metadata": {},
   "outputs": [
    {
     "name": "stdout",
     "output_type": "stream",
     "text": [
      "{'a': 1.5, 'b': 1.0, 'length': 8.009539851951546, 'area': 4.7124}\n",
      "{'a': 1.0, 'b': 1.0, 'length': 6.2832, 'area': 3.1416}\n",
      "{'a': 1.0, 'b': 1.0, 'length': 6.2832, 'area': 3.1416}\n"
     ]
    }
   ],
   "source": [
    "#4.11\n",
    "#Напишите функцию ellipse()\n",
    "#Функция содержит три вложенные функции:\n",
    "\n",
    "#semi_axes() — функция для вычисления полуосей эллипса, которую мы реализовали в предыдущем задании.\n",
    "#calculate_area_ellipse() — функция для вычисления площади эллипса по формуле:\n",
    "#S = πab\n",
    "#Длины полуосей a и b сделайте параметрами функции.\n",
    "#calculate_length_ellipse() — функция для вычисления длины окружности эллипса по формуле:\n",
    "#L=2*pi*((a**2+b**2)/2)**0.5\n",
    "#Функция ellipse() должна возвращать словарь с ключами 'a', 'b', 'length' и 'area'.\n",
    "pi=3.1416\n",
    "def ellipse(p1,p2,p3):\n",
    "    def semi_axes(p1,p2,p3):\n",
    "        x1,y1=p1;x2,y2=p2;x3,y3=p3\n",
    "        a= ((x2-x1)**2+(y2-y1)**2)**0.5\n",
    "        b= ((x3-x1)**2+(y3-y1)**2)**0.5\n",
    "        return (a,b)\n",
    "    def calculate_area_ellipse(a,b):\n",
    "        S=pi*a*b\n",
    "        return S\n",
    "    def calculate_length_ellipse(a,b):\n",
    "        L=2*pi*((a**2+b**2)/2)**0.5\n",
    "        return L\n",
    "    \n",
    "    a,b=semi_axes(p1,p2,p3)\n",
    "    S=calculate_area_ellipse(a,b)\n",
    "    L=calculate_length_ellipse(a,b)\n",
    "\n",
    "    result={'a':a,'b':b,'length':L,'area':S}\n",
    "    return result\n",
    "print(ellipse(p1=(3, 2.5), p2=(4.5, 2.5), p3=(3, 3.5)))\n",
    "print(ellipse(p1=(0, 0), p2=(0, 1), p3=(1, 0)))\n",
    "print(ellipse(p1=(0, 0), p2=(0, 1), p3=(1, 0)))\n"
   ]
  },
  {
   "cell_type": "code",
   "execution_count": 28,
   "metadata": {},
   "outputs": [
    {
     "name": "stdout",
     "output_type": "stream",
     "text": [
      "15.0\n"
     ]
    }
   ],
   "source": [
    "#5.4\n",
    "#Напишите рекурсивную функцию multiply_lst(lst), которая перемножает элементы заданного списка lst между собой. Если в функцию передаётся пустой список, она должна возвращать 1.\n",
    "\n",
    "def multiply_lst(lst):\n",
    "    if not lst:\n",
    "        return 1\n",
    "    return lst[0]*multiply_lst(lst[1:])\n",
    "print(multiply_lst([1, 5, 2, 1.5]))"
   ]
  },
  {
   "cell_type": "code",
   "execution_count": 32,
   "metadata": {},
   "outputs": [
    {
     "name": "stdout",
     "output_type": "stream",
     "text": [
      "0.475\n"
     ]
    }
   ],
   "source": [
    "#5.5\n",
    "#Напишите рекурсивную функцию inv_sum_lst(). На вход ей подаётся список из чисел, а она вычисляет сумму чисел, являющихся обратными к своим элементам.\n",
    "\n",
    "def inv_sum_list(lst):\n",
    "    if not lst:\n",
    "        return 0\n",
    "    return 1/lst[0]+inv_sum_list(lst[1:])\n",
    "print(inv_sum_list([10, 4, 8]))\n"
   ]
  },
  {
   "cell_type": "code",
   "execution_count": 34,
   "metadata": {},
   "outputs": [
    {
     "name": "stdout",
     "output_type": "stream",
     "text": [
      "252.0\n"
     ]
    }
   ],
   "source": [
    "#5.6\n",
    "#Напишем функцию combination(n, k), которая позволит нам автоматически вычислять значение сочетания по формуле, приведённой выше, для любых n и k.\n",
    "#При расчёте воспользуйтесь рекурсивной функцией factorial(), которую мы написали выше.\n",
    "\n",
    "def combination(n,k):\n",
    "    #C=n!/((n-k)!*k!)\n",
    "    def factorial(x):\n",
    "        if x==0:return 1\n",
    "        if x==1:return 1\n",
    "        return factorial(x-1)*x\n",
    "    C=factorial(n)/(factorial(n-k)*factorial(k))\n",
    "    return C\n",
    "print(combination(n=10, k=5))"
   ]
  },
  {
   "cell_type": "code",
   "execution_count": 84,
   "metadata": {},
   "outputs": [
    {
     "name": "stdout",
     "output_type": "stream",
     "text": [
      "За 1 год: 144\n",
      "За 2 года: 46368\n",
      "За 3 года: 14930352\n"
     ]
    }
   ],
   "source": [
    "#    \"Некто выращивает кроликов в пространстве, со всех сторон обнесенном высокой стеной. \n",
    "#     Сколько пар кроликов рождается в один год от одной пары, если через месяц пара кроликов производит на свет другую пару, \n",
    "#     а рожают кролики, начиная со второго месяца после своего рождения.\"\n",
    "\n",
    "def rabbits(months):\n",
    "    if months in (1,2):return 1\n",
    "    return rabbits(months-1)+rabbits(months-2)\n",
    "print('За 1 год:',rabbits(12))\n",
    "print('За 2 года:',rabbits(24))\n",
    "print('За 3 года:',rabbits(36))\n",
    "\n",
    "\n"
   ]
  },
  {
   "cell_type": "code",
   "execution_count": null,
   "metadata": {},
   "outputs": [],
   "source": []
  },
  {
   "cell_type": "code",
   "execution_count": 39,
   "metadata": {},
   "outputs": [
    {
     "name": "stdout",
     "output_type": "stream",
     "text": [
      "1\n",
      "1\n",
      "13\n"
     ]
    }
   ],
   "source": [
    "#5.9\n",
    "#Напишите рекурсивную функцию fib(n), которая считает n-ое число Фибоначчи. Алгоритм работы функции:\n",
    "\n",
    "#Если n=1 или n=2, вернуть 1, так как первый и второй элементы ряда Фибоначчи равны единице.\n",
    "#Во всех остальных случаях вызвать эту же функцию с аргументами n-1 и n-2 и сложить результаты двух вызовов.\n",
    "\n",
    "def fib(n):\n",
    "    if n==1 or n==2: return 1\n",
    "    return fib(n-1)+fib(n-2)\n",
    "print(fib(1))\n",
    "# 1\n",
    "print(fib(2))\n",
    "# 2\n",
    "print(fib(7))\n",
    "# 8"
   ]
  },
  {
   "cell_type": "code",
   "execution_count": 60,
   "metadata": {},
   "outputs": [
    {
     "name": "stdout",
     "output_type": "stream",
     "text": [
      "-5 4\n",
      "-5 3\n",
      "-5 2\n",
      "-5 1\n",
      "625\n"
     ]
    }
   ],
   "source": [
    "#6.5\n",
    "#Напишите рекурсивную функцию power(val, n), которая возводит число в заданную целую натуральную степень (или в степень 0).\n",
    "#Использовать встроенный оператор ** для возведения в степень запрещено. Пользуйтесь только умножением *. Например, 2 ** 4 = (((2 * 2) * 2) * 2) = 16.\n",
    "\n",
    "def power(val,n):\n",
    "    print(val,n)\n",
    "    if n==0:return 1\n",
    "    if n==1:return val\n",
    "\n",
    "    return val*power(val,n-1)\n",
    "\n",
    "\n",
    "\n",
    "\n",
    "print(power(-5, 4))\n",
    "# 625"
   ]
  },
  {
   "cell_type": "code",
   "execution_count": 58,
   "metadata": {},
   "outputs": [
    {
     "name": "stdout",
     "output_type": "stream",
     "text": [
      "-5 6\n",
      "25 3\n",
      "625 1\n",
      "15625\n"
     ]
    }
   ],
   "source": [
    "def power(val, n):\n",
    "    print(val,n)\n",
    "    if n == 0: return 1\n",
    "    elif n == 1: return val\n",
    "    elif n % 2 == 0: return power(val * val, n // 2)\n",
    "    else: return val * power(val * val, (n - 1) // 2)\n",
    "print(power(-5, 6))"
   ]
  },
  {
   "cell_type": "code",
   "execution_count": 64,
   "metadata": {},
   "outputs": [
    {
     "name": "stdout",
     "output_type": "stream",
     "text": [
      "h*e*ll*l*o\n"
     ]
    }
   ],
   "source": [
    "#6.6\n",
    "#Дана строка, содержащая только английские буквы (большие и маленькие). Нужно добавить символ * (звёздочка) между буквами. Перед первой и после последней букв символ * добавлять не нужно.\n",
    "\n",
    "def add_asterisk(s):\n",
    "    if len(s)==1 or len(s)==2: return s\n",
    "    return s[0]+'*'+add_asterisk(s[1:-1])+'*'+s[-1]\n",
    "print(add_asterisk('helllo'))"
   ]
  },
  {
   "cell_type": "code",
   "execution_count": 69,
   "metadata": {},
   "outputs": [
    {
     "name": "stdout",
     "output_type": "stream",
     "text": [
      "12\n",
      "82\n"
     ]
    }
   ],
   "source": [
    "#6.7\n",
    "#Напишите функцию sum_list(). Она принимает на вход вложенный список, элементами которого являются числа, и возвращает сумму всех элементов.\n",
    "\n",
    "def sum_list(matrix):\n",
    "    sum=0\n",
    "    for elem in matrix:\n",
    "        if type(elem) is list:\n",
    "            sum+=sum_list(elem)\n",
    "        else:\n",
    "            sum+=elem\n",
    "    return sum\n",
    "\n",
    "matrix = [\n",
    "    [1, 1, 0],\n",
    "    [4, 2, 1],\n",
    "    [0, 2, 1]\n",
    "]\n",
    "print(sum_list(matrix))\n",
    "\n",
    "matrix = [\n",
    "    [1, 1, [1, 2, 3], 0],\n",
    "    [4, 2, 1, [10, 52, 2]],\n",
    "    [0, 2, 1]\n",
    "]\n",
    "print(sum_list(matrix))"
   ]
  },
  {
   "attachments": {},
   "cell_type": "markdown",
   "metadata": {},
   "source": [
    "#6.8\n",
    "________________________________________________________________________________________________________________\n",
    "#Пусть у нас есть словарь input_dict следующего вида:\n",
    "input_dict = {\n",
    "    'key1': {\n",
    "        'key2': ['value1', 'value2'], \n",
    "        'key3': {\n",
    "            'key4': ['value3']\n",
    "        }\n",
    "    }, \n",
    "    'key5': {\n",
    "        'key6': {\n",
    "            'key7': ['value3', 'value5', 'value6']\n",
    "        }\n",
    "    }\n",
    "}\n",
    "________________________________________________________________________________________________________________\n",
    "#Мы хотим напечатать этот словарь следующим образом:\n",
    "key1 ->\n",
    "  key2 ->\n",
    "    ['value1', 'value2']\n",
    "  key3 ->\n",
    "    key4 ->\n",
    "      ['value3']\n",
    "key5 ->\n",
    "  key6 ->\n",
    "    key7 ->\n",
    "      ['value3', 'value5', 'value6']\n",
    "________________________________________________________________________________________________________________\n",
    "Для этого мы написали рекурсивную функцию print_dict():\n",
    "def print_dict(input_data, level=0):\n",
    "    # Если input_data — словарь \n",
    "    if type(input_data) is dict:\n",
    "        # Создаём цикл по ключам словаря\n",
    "        for key in input_data:\n",
    "            # Выводим ключ в формате \"<пробелы> <имя ключа> ->\"\n",
    "            print('  ' * level + '{} ->'.format(key))\n",
    "            # Повторяем те же операции для каждого значения словаря\n",
    "            print_dict(input_data[key], level=level)  \n",
    "    else: # В противном случае\n",
    "        # Выводим значения в формате \"<пробелы> <значения>\"\n",
    "        print('  ' * level + str(input_data))\n",
    "________________________________________________________________________________________________________________\n",
    "Однако мы где-то допустили ошибку в функции и она печатает словарь в следующем виде:\n",
    "\n",
    "key1 ->  \n",
    "key2 ->  \n",
    "['value1', 'value2']  \n",
    "key3 ->  \n",
    "key4 ->  \n",
    "['value3']  \n",
    "key5 ->  \n",
    "key6 ->  \n",
    "key7 ->  \n",
    "['value3', 'value5', 'value6']\n",
    "________________________________________________________________________________________________________________\n",
    "\n",
    "Разберитесь в функции print_dict() и исправьте её так, чтобы словарь печатался в нужном формате."
   ]
  },
  {
   "cell_type": "code",
   "execution_count": 80,
   "metadata": {},
   "outputs": [
    {
     "name": "stdout",
     "output_type": "stream",
     "text": [
      "key1 ->\n",
      "  key2 ->\n",
      "    ['value1', 'value2']\n",
      "  key3 ->\n",
      "    key4 ->\n",
      "      ['value3']\n",
      "key5 ->\n",
      "  key6 ->\n",
      "    key7 ->\n",
      "      ['value3', 'value5', 'value6']\n"
     ]
    }
   ],
   "source": [
    "def print_dict(input_data, level=0):\n",
    "    # Если input_data — словарь \n",
    "    if type(input_data) is dict:\n",
    "        # Создаём цикл по ключам словаря\n",
    "        for key in input_data:\n",
    "            # Выводим ключ в формате \"<пробелы> <имя ключа> ->\"\n",
    "            print('  ' * level + '{} ->'.format(key))\n",
    "            # Повторяем те же операции для каждого значения словаря\n",
    "            print_dict(input_data[key], level=level+1)  \n",
    "    else: # В противном случае\n",
    "        # Выводим значения в формате \"<пробелы> <значения>\"\n",
    "        print('  ' * level + str(input_data))\n",
    "\n",
    "input_data = {\n",
    "    'key1': {\n",
    "        'key2': ['value1', 'value2'], \n",
    "        'key3': {\n",
    "            'key4': ['value3']\n",
    "        }\n",
    "    }, \n",
    "    'key5': {\n",
    "        'key6': {\n",
    "            'key7': ['value3', 'value5', 'value6']\n",
    "        }\n",
    "    }\n",
    "}\n",
    "print_dict(input_data)"
   ]
  },
  {
   "cell_type": "code",
   "execution_count": null,
   "metadata": {},
   "outputs": [],
   "source": [
    "#7.1\n",
    "#Дан список чисел old_list, где все числа имеют строковый тип данных. Чтобы работать с ними, вам нужно превратить их в целое число. Напишите код, который позволит это сделать. Новое значение списка присвойте переменной new_list. В решении используйте функцию map().\n",
    "\n",
    "new_list=list(map(int,old_list))"
   ]
  },
  {
   "cell_type": "code",
   "execution_count": null,
   "metadata": {},
   "outputs": [],
   "source": [
    "#7.2\n",
    "#Вам передали информацию о расходах за шесть месяцев. Данные содержатся в списке expenses. В этом списке расходы по каждому месяцу хранятся в отдельных списках. С помощью map создайте новый список expenses_sum, содержащий суммы расходов по каждому месяцу.\n",
    "expenses_sum=list(map(sum,expenses))\n"
   ]
  },
  {
   "cell_type": "code",
   "execution_count": 89,
   "metadata": {},
   "outputs": [
    {
     "data": {
      "text/plain": [
       "{'яблоко': 94.05,\n",
       " 'апельсин': 94.05,\n",
       " 'вишня': 139.65,\n",
       " 'персик': 137.75,\n",
       " 'грейпфрут': 132.05}"
      ]
     },
     "execution_count": 89,
     "metadata": {},
     "output_type": "execute_result"
    }
   ],
   "source": [
    "#7.3\n",
    "#У вас есть словарь prices, содержащий цены на литровые упаковки соков в интернет-магазине. Вам необходимо применить к этим ценам скидку 5 % и округлить полученное значение до двух знаков после запятой. \n",
    "#Новый словарь положите в переменную new_prices. В решении используйте функцию map().\n",
    "\n",
    "\n",
    "def preproc(prices_tuple,discont=0.05):\n",
    "    name,price=prices_tuple\n",
    "    price-=price*discont\n",
    "    return (name,round(price,2))\n",
    "\n",
    "prices = {'яблоко': 99, 'апельсин': 99, 'вишня': 147, 'персик': 145, 'грейпфрут': 139}\n",
    "new_prices=dict(map(preproc,prices.items()))\n",
    "new_prices"
   ]
  },
  {
   "cell_type": "code",
   "execution_count": 90,
   "metadata": {},
   "outputs": [
    {
     "data": {
      "text/plain": [
       "['https://www.kommersant.ru//doc/5041434?query=data%20science',\n",
       " 'https://www.kommersant.ru//doc/5041567?query=data%20science',\n",
       " 'https://www.kommersant.ru//doc/4283670?query=data%20science',\n",
       " 'https://www.kommersant.ru//doc/3712659?query=data%20science',\n",
       " 'https://www.kommersant.ru//doc/4997267?query=data%20science',\n",
       " 'https://www.kommersant.ru//doc/4372673?query=data%20science',\n",
       " 'https://www.kommersant.ru//doc/3779060?query=data%20science',\n",
       " 'https://www.kommersant.ru//doc/3495410?query=data%20science',\n",
       " 'https://www.kommersant.ru//doc/4308832?query=data%20science',\n",
       " 'https://www.kommersant.ru//doc/4079881?query=data%20science']"
      ]
     },
     "execution_count": 90,
     "metadata": {},
     "output_type": "execute_result"
    }
   ],
   "source": [
    "#7.5\n",
    "# kommersant.ru\n",
    "\n",
    "\n",
    "docs = [  \n",
    "'//doc/5041434?query=data%20science',  \n",
    "'//doc/5041567?query=data%20science',  \n",
    "'//doc/4283670?query=data%20science',  \n",
    "'//doc/3712659?query=data%20science',  \n",
    "'//doc/4997267?query=data%20science',  \n",
    "'//doc/4372673?query=data%20science',  \n",
    "'//doc/3779060?query=data%20science',  \n",
    "'//doc/3495410?query=data%20science',  \n",
    "'//doc/4308832?query=data%20science',  \n",
    "'//doc/4079881?query=data%20science'  \n",
    "]\n",
    "links= list(map(lambda x: 'https://www.kommersant.ru'+x,docs))\n",
    "links"
   ]
  },
  {
   "cell_type": "code",
   "execution_count": null,
   "metadata": {},
   "outputs": [],
   "source": [
    "#7.6\n",
    "# В этом кортеже представлены следующие признаки (в порядке следования):\n",
    "\n",
    "#x₁ — уровень преступности на душу населения по городам\n",
    "#x₂ — среднее количество комнат в доме;\n",
    "#x₃ — доля зданий, построенных до 1940 г. и занимаемых владельцами;\n",
    "#x₄ — полная ставка налога на имущество за каждые 10 000 долларов стоимости\n",
    "#x₅ — процент населения с низким статусом.\n",
    "\n",
    "#Добавим в наш набор данных новый признак, который будет равен произведению трёх признаков — x₁, x₄ и x₅.\n",
    "#шестой элемент — сгенерированный признак, округлённый до второго знака после запятой.\n",
    "#Результирующий список кортежей занесите в переменную updated_data.\n",
    "\n",
    "updated_data=list(map(lambda x: (*x, round(x[0]*x[3]*x[4],2)),data))"
   ]
  },
  {
   "cell_type": "code",
   "execution_count": null,
   "metadata": {},
   "outputs": [],
   "source": [
    "#8.1\n",
    "#У вас есть список price стоимости аренды помещения под магазин за месяц. Вам необходимо создать список filtered_prices из стоимости, которая не выше 30000, чтобы уложиться в бюджет. В решении примените filter() и lambda.\n",
    "\n",
    "filtered_prices= list(filter(lambda x: x<=30000,price))"
   ]
  },
  {
   "cell_type": "code",
   "execution_count": 1,
   "metadata": {},
   "outputs": [
    {
     "name": "stdout",
     "output_type": "stream",
     "text": [
      "['parking permit', 'maternity capital', 'tax benefit']\n"
     ]
    }
   ],
   "source": [
    "#8.2\n",
    "# Необходимо создать функциональность, которая позволяет отфильтровать среди всех запрашиваемых пользователем услуг (их количество произвольное) только те, которые предоставляются многодетным семьям.\n",
    "family_list = [\n",
    "    'certificate of a large family',\n",
    "    'social card',\n",
    "    'maternity capital',\n",
    "    'parking permit',\n",
    "    'tax benefit',\n",
    "    'reimbursement of expenses',\n",
    "    \"compensation for the purchase of children's goods\"\n",
    " ]\n",
    "#Реализуйте функцию filter_family(): на вход подаётся список с названием услуг МФЦ, а в результате возвращается список услуг, которые могут быть оказаны только многодетной семье.\n",
    "\n",
    "def filter_family(lst):\n",
    "    return list(filter(lambda x:x in family_list,lst))\n",
    "print(filter_family(['newborn registration', 'parking permit', \n",
    "                     'maternity capital', 'tax benefit', 'medical policy']))"
   ]
  },
  {
   "cell_type": "code",
   "execution_count": 19,
   "metadata": {},
   "outputs": [
    {
     "data": {
      "text/plain": [
       "[('John S.', 13, 2, 2003), ('Maria P.', 13, 3, 2003)]"
      ]
     },
     "execution_count": 19,
     "metadata": {},
     "output_type": "execute_result"
    }
   ],
   "source": [
    "#8.3\n",
    "#В нашем распоряжении есть список кортежей reg. В каждом кортеже хранится информация о зарегистрированном пользователе и его дате рождения в формате: Фамилия, Имя, день, месяц, год:\n",
    "#Выберите из списка reg только те записи, в которых год рождения пользователя 2000 и больше (2001, 2002 и т. д.). Из оставшихся записей составьте новый список кортежей, в котором фамилия и имя объединены в одну строку по следующему шаблону: Фамилия И.\n",
    "reg = [('Ivanov', 'Sergej', 24, 9, 1995),\n",
    "      ('Smith', 'John', 13, 2, 2003),\n",
    "      ('Petrova', 'Maria', 13, 3, 2003)]\n",
    "#map(lambda x: (x[1]+' ' +x[0[0]]+'.',x[2],x[3],x[4])\n",
    "new_reg=filter(lambda x: x[4]>=2000,reg)\n",
    "new_reg=map(lambda x: (x[0]+' ' +x[1][0]+'.',x[2],x[3],x[4]),new_reg)\n",
    "list(new_reg)"
   ]
  },
  {
   "cell_type": "code",
   "execution_count": null,
   "metadata": {},
   "outputs": [],
   "source": [
    "#8.4\n",
    "# В этом кортеже представлены следующие признаки (в порядке следования):\n",
    "\n",
    "#x₁ — уровень преступности на душу населения по городам\n",
    "#x₂ — среднее количество комнат в доме;\n",
    "#x₃ — доля зданий, построенных до 1940 г. и занимаемых владельцами;\n",
    "#x₄ — полная ставка налога на имущество за каждые 10 000 долларов стоимости\n",
    "#x₅ — процент населения с низким статусом.\n",
    "\n",
    "#Добавим в наш набор данных новый признак, который будет равен произведению трёх признаков — x₁, x₄ и x₅.\n",
    "#А затем выберите из исходного списка только те данные, для которых значение нового признака > 60.\n",
    "#шестой элемент — сгенерированный признак, округлённый до второго знака после запятой.\n",
    "#Результирующий список кортежей занесите в переменную updated_data.\n",
    "\n",
    "updated_data=map(lambda x: (*x, round(x[0]*x[3]*x[4],2)),data)\n",
    "filtered_data=list(filter(lambda x: x[5]>60, updated_data))"
   ]
  },
  {
   "cell_type": "code",
   "execution_count": 25,
   "metadata": {},
   "outputs": [
    {
     "name": "stdout",
     "output_type": "stream",
     "text": [
      "None\n"
     ]
    },
    {
     "data": {
      "text/plain": [
       "[3, 2, 1]"
      ]
     },
     "execution_count": 25,
     "metadata": {},
     "output_type": "execute_result"
    }
   ],
   "source": [
    "lst=[1,2,3]\n",
    "\n",
    "def swap_places(lst):\n",
    "    fst= lst[0]\n",
    "    lst[0]=lst[-1]\n",
    "    lst.pop(-1)\n",
    "    lst.append(fst)\n",
    "print(swap_places(lst))\n",
    "lst"
   ]
  },
  {
   "cell_type": "code",
   "execution_count": 46,
   "metadata": {},
   "outputs": [
    {
     "name": "stdout",
     "output_type": "stream",
     "text": [
      "['выхухоль', 'белка___', 'крот____']\n"
     ]
    }
   ],
   "source": [
    "def equalize_lengths(lst):\n",
    "    lst_new=sorted(lst,key=lambda x:len(x), reverse=True)\n",
    "    mx=len(lst_new[0])\n",
    "    for elem in lst_new:\n",
    "        if len(elem)<mx:\n",
    "            lst_new[lst_new.index(elem)]=elem+'_'*(mx-len(elem))\n",
    "    return lst_new\n",
    "print(equalize_lengths(['крот', 'белка', 'выхухоль']))"
   ]
  },
  {
   "cell_type": "code",
   "execution_count": 54,
   "metadata": {},
   "outputs": [
    {
     "name": "stdout",
     "output_type": "stream",
     "text": [
      "5.25\n",
      "Zero division error!\n",
      "None\n"
     ]
    }
   ],
   "source": [
    "def division(a, b):\n",
    "    try:\n",
    "        a/b\n",
    "    except ZeroDivisionError:\n",
    "        print(\"Zero division error!\")\n",
    "        return None\n",
    "    return a/b\n",
    "print(division(189, 36))\n",
    "# 5.25\n",
    "print(division(1, 0))"
   ]
  },
  {
   "cell_type": "code",
   "execution_count": 56,
   "metadata": {},
   "outputs": [
    {
     "name": "stdout",
     "output_type": "stream",
     "text": [
      "0\n"
     ]
    }
   ],
   "source": [
    "lst=[]\n",
    "if lst:\n",
    "    print(1)\n",
    "else:\n",
    "    print(0)\n"
   ]
  },
  {
   "cell_type": "code",
   "execution_count": 66,
   "metadata": {},
   "outputs": [
    {
     "name": "stdout",
     "output_type": "stream",
     "text": [
      "iteration: 1 sumr:  1 suml:  0\n",
      "iteration: 2 sumr:  3 suml:  0\n",
      "iteration: 3 sumr:  6 suml:  0\n",
      "iteration: 4 sumr:  6 suml:  1\n",
      "iteration: 5 sumr:  6 suml:  3\n",
      "iteration: 6 sumr:  6 suml:  6\n",
      "True\n"
     ]
    }
   ],
   "source": [
    "def lucky_ticket(ticket_number):\n",
    "    sumr=0\n",
    "    suml=0\n",
    "    iter=0\n",
    "    for i in str(ticket_number):\n",
    "        iter+=1\n",
    "        if iter<=3:sumr+=int(i)\n",
    "        else: suml+=int(i)\n",
    "    return sumr==suml\n",
    "print(lucky_ticket(123123))"
   ]
  },
  {
   "cell_type": "code",
   "execution_count": 69,
   "metadata": {},
   "outputs": [
    {
     "name": "stdout",
     "output_type": "stream",
     "text": [
      "dict_keys(['0', '4', '6', '8', '9']) <class 'dict_keys'>\n"
     ]
    }
   ],
   "source": [
    "dict1={'0':1,'4':1,'6':1,'8':2,'9':1}\n",
    "a=dict1.keys()\n",
    "print(a, type(a))"
   ]
  },
  {
   "cell_type": "code",
   "execution_count": 44,
   "metadata": {},
   "outputs": [
    {
     "data": {
      "text/plain": [
       "[1, 2, 3, 4]"
      ]
     },
     "execution_count": 44,
     "metadata": {},
     "output_type": "execute_result"
    }
   ],
   "source": [
    "lst=[1,2,3,4]\n",
    "lst[lst.index(4)]=4\n",
    "lst"
   ]
  },
  {
   "cell_type": "code",
   "execution_count": 38,
   "metadata": {},
   "outputs": [
    {
     "name": "stdout",
     "output_type": "stream",
     "text": [
      "['выхухоль', 'белка', 'крот']\n"
     ]
    }
   ],
   "source": [
    "lst=['крот', 'белка', 'выхухоль']\n",
    "lst_new=sorted(lst,key=lambda x:len(x), reverse=True)\n",
    "print(lst_new)"
   ]
  },
  {
   "cell_type": "code",
   "execution_count": 91,
   "metadata": {},
   "outputs": [
    {
     "name": "stdout",
     "output_type": "stream",
     "text": [
      "[[2, 4, 6], [2, 4, 6], [2, 4, 6]]\n"
     ]
    }
   ],
   "source": [
    "matrix1=[[1,2,3],[1,2,3],[1,2,3]]\n",
    "matrix2=[[1,2,3],[1,2,3],[1,2,3]]\n",
    "\n",
    "def matrix_sum(matrix1, matrix2):\n",
    "    \n",
    "    #Проверка\n",
    "    def check(matrix1, matrix2):\n",
    "    \n",
    "        len_i_m1=[]\n",
    "        len_i_m2=[] \n",
    "        for i in matrix1:\n",
    "            len_i_m1.append(len(i))\n",
    "        for i in matrix2:\n",
    "            len_i_m2.append(len(i))\n",
    "        if len_i_m1 == len_i_m2: return True    \n",
    "        else: return False\n",
    "    \n",
    "    #Создание новой матрицы\n",
    "    def new_mat(matrix1):\n",
    "        for i in matrix1:\n",
    "            for j in i:\n",
    "                j=0\n",
    "        return matrix1\n",
    "    result=new_mat(matrix1)\n",
    "\n",
    "    if check(matrix1, matrix2) == True:\n",
    "        for i in range(len(matrix1)):\n",
    "            for j in range(len(matrix1[0])):\n",
    "                result[i][j]=matrix1[i][j]+matrix2[i][j]\n",
    "    else:\n",
    "        print('Error! Matrices dimensions are different!')\n",
    "        return None\n",
    "    \n",
    "    return result\n",
    "print(matrix_sum(matrix1, matrix2))\n"
   ]
  },
  {
   "cell_type": "code",
   "execution_count": 89,
   "metadata": {},
   "outputs": [
    {
     "name": "stdout",
     "output_type": "stream",
     "text": [
      "[4, 3, 3]\n",
      "[3, 3, 4]\n",
      "False\n"
     ]
    }
   ],
   "source": [
    "def check(matrix1, matrix2):\n",
    "    \n",
    "    len_i_m1=[]\n",
    "    len_i_m2=[] \n",
    "    for i in matrix1:\n",
    "        len_i_m1.append(len(i))\n",
    "    for i in matrix2:\n",
    "        len_i_m2.append(len(i))\n",
    "    \n",
    "    print(len_i_m1)\n",
    "    print(len_i_m2)\n",
    "    \n",
    "    \n",
    "    if len_i_m1 == len_i_m2: return True    \n",
    "    else: return False\n",
    "\n",
    "\n",
    "\n",
    "matrix1=[[1,2,3,3],[1,2,3],[1,2,3]]\n",
    "matrix2=[[1,2,3],[1,2,3],[1,2,3,3]]\n",
    "print(check(matrix1, matrix2))"
   ]
  },
  {
   "cell_type": "code",
   "execution_count": 101,
   "metadata": {},
   "outputs": [
    {
     "name": "stdout",
     "output_type": "stream",
     "text": [
      "age: 28\n",
      "first_name: John\n",
      "last_name: Doe\n",
      "position: Python developer\n"
     ]
    }
   ],
   "source": [
    "#6.5\n",
    "#print_personal_data(), которая должна принимать на вход неизвестное количество именованных аргументов (персональных данных) в любом порядке и выводить их в виде аргумент: значение в отсортированном по алфавиту порядке имён аргументов.\n",
    "def print_personal_data(**kwargs):\n",
    "    lst=list(kwargs.keys())\n",
    "    lst.sort()\n",
    "    for i in lst:\n",
    "        print('{}: {}'.format(i,kwargs[i]))\n",
    "print_personal_data(first_name='John', last_name='Doe', age=28, position='Python developer')"
   ]
  },
  {
   "cell_type": "code",
   "execution_count": 111,
   "metadata": {},
   "outputs": [
    {
     "name": "stdout",
     "output_type": "stream",
     "text": [
      "['arrakis', 'the', 'planet', 'known', 'as', 'dune', 'is', 'forever', 'his', 'place']\n"
     ]
    }
   ],
   "source": [
    "#6.6\n",
    "#Напишите функцию get_words_list(), которая:\n",
    "#избавляется от знаков препинания в тексте,\n",
    "#приводит текст к нижнему регистру,\n",
    "#возвращает список из слов в тексте.\n",
    "\n",
    "def get_words_list(text):  \n",
    "    punctuation_list = ['.', ',', ';', ':', '...', '!', '?', '-', '\"', '(', ')']\n",
    "    text=text.lower()\n",
    "    for elem in text:\n",
    "        if elem in punctuation_list: text=text.replace(elem, '')\n",
    "    text=text.split()\n",
    "    return text\n",
    "text_example = \"Arrakis, the planet known as Dune, is forever his place.\"\n",
    "\n",
    "print(get_words_list(text=text_example))\n"
   ]
  },
  {
   "cell_type": "code",
   "execution_count": 131,
   "metadata": {},
   "outputs": [
    {
     "name": "stdout",
     "output_type": "stream",
     "text": [
      "the\n"
     ]
    }
   ],
   "source": [
    "#6.8\n",
    "#Напишите функцию get_most_frequent_word(), которая возвращает наиболее часто встречающееся слово в тексте, переданном в функцию в качестве аргумента text.\n",
    "#Предварительно очистите текст от знаков препинания и приведите его к единому регистру (слова в верхнем и нижнем регистре считаются одним и тем же словом). В этом вам может помочь функция get_words_list(), которую мы реализовали ранее. Сделайте её внутренней функцией функции get_most_frequent_word().\n",
    "#Dля решения задачи вам также пригодится список уникальных слов в тексте. Чтобы создать его, воспользуйтесь функцией get_unique_words() из предыдущего задания. Также сделайте её внутренней по отношению к функции get_most_frequent_word().\n",
    "\n",
    "def get_most_frequent_word(text):\n",
    "\n",
    "    #обработка\n",
    "    def get_words_list(text):  \n",
    "        punctuation_list = ['.', ',', ';', ':', '...', '!', '?', '-', '\"', '(', ')']\n",
    "        text=text.lower()\n",
    "        for elem in text:\n",
    "            if elem in punctuation_list: text=text.replace(elem, '')\n",
    "        text=text.split()\n",
    "        return text\n",
    "    text=get_words_list(text)\n",
    "\n",
    "    #создание списка уникальных слов\n",
    "    def get_unique_words(text):\n",
    "        text=list(set(text))\n",
    "        text.sort()\n",
    "        return text\n",
    "    uniq_words=get_unique_words(text)\n",
    "\n",
    "    #создание списка с наиболее часто встречающимися словами (мб 1, мб больше если кол-во упоминаний одинаковое)\n",
    "    def get_frequent_words(text,uniq_words):\n",
    "        #создаем словарь со словами и числом их использования\n",
    "        word_dict={}\n",
    "        for word in uniq_words:\n",
    "            count=0\n",
    "            count=text.count(word)\n",
    "            word_dict.update({word:count})\n",
    "\n",
    "        #создаем финальный список со словом/ами которое/ые чаще всего используется/ются (если число исп. разных слова одинаковое- список будет из неск элементов)\n",
    "        w_dict_val=list(word_dict.values())\n",
    "        count=0\n",
    "        final_lst=[]\n",
    "        for i in w_dict_val:\n",
    "            count+=1\n",
    "            if i==max(w_dict_val):\n",
    "                final_lst.append(uniq_words[count-1]) \n",
    "                #count - счетчик итераций, который поможет определить индекс подходящего слова, словарь создавалс на основе списка uniq_words, значит индексы в списке соответствуют порядку слов в словаре\n",
    "        return final_lst\n",
    "\n",
    "    #Сортируем список по алфавиту и выводим первое слово\n",
    "    most_frequent_words= get_frequent_words(text,uniq_words)\n",
    "    most_frequent_words.sort()\n",
    "    return most_frequent_words[0]\n",
    "\n",
    "\n",
    "text_example = \"A beginning is the time for taking the most delicate care that the balances are correct. This every sister of the Bene Gesserit knows. To begin your study of the life of Muad'Dib, then take care that you first place him in his time: born in the 57th year of the Padishah Emperor, Shaddam IV. And take the most special care that you locate Muad'Dib in his place: the planet Arrakis. Do not be deceived by the fact that he was born on Caladan and lived his first fifteen years there. Arrakis, the planet known as Dune, is forever his place.\"\n",
    "# the\n",
    "\n",
    "#text_example = \"Есть урок, который идет не сорок пять минут, а всю жизнь. Этот урок проходит и в классе, и в поле, и дома, и в лесу. Я назвал этот урок седьмым потому, что в школе обычно бывает не больше шести уроков. Не удивляйтесь, если я скажу, что учителем на этом уроке может быть и береза возле вашего дома, и бабушка, и вы сами (В. Песков)\"\n",
    "print(get_most_frequent_word(text_example))\n",
    "# и"
   ]
  },
  {
   "cell_type": "code",
   "execution_count": 132,
   "metadata": {},
   "outputs": [
    {
     "name": "stdout",
     "output_type": "stream",
     "text": [
      "a\n"
     ]
    }
   ],
   "source": [
    "\n",
    "\n",
    "def get_most_frequent_word(text):\n",
    "    def get_words_list(text):\n",
    "        # Создаём список со знаками пунктуации\n",
    "        punctuation_list = ['.', ',', ';', ':', '...', '!', '?', '-', '\"', '(', ')']\n",
    "        # Создаём цикл по элементам списка\n",
    "        for symbol in punctuation_list:\n",
    "            # Заменяем текущий знак пунктуации в тексте на пустую строку\n",
    "            text = text.replace(symbol, \"\")\n",
    "        # Приводим текст к нижнему регистру\n",
    "        text = text.lower()\n",
    "        # Разделяем его на слова по пробелу\n",
    "        words_list = text.split(' ')\n",
    "        # Возвращаем результат\n",
    "        return words_list\n",
    "\n",
    "    def get_unique_words(words_list):\n",
    "        # Превращаем список во множество, чтобы найти только уникальные слова, а затем превращаем множество обратно в список.\n",
    "        unique_words_list = list(set(words_list))\n",
    "        # Сортируем список по алфавиту\n",
    "        unique_words_list.sort()\n",
    "        # Возвращаем результат\n",
    "        return unique_words_list\n",
    "\n",
    "    # Разбиваем текст на слова\n",
    "    words_list = get_words_list(text)\n",
    "    # Выделяем только уникальные слова\n",
    "    unique_words = get_unique_words(words_list)\n",
    "\n",
    "    # Инициализируем максимальное количество вхождений\n",
    "    max_word_count = 0\n",
    "    # Инициализируем наиболее распространённое слово\n",
    "    most_frequent_word = ''\n",
    "    # Создаём цикл по уникальным словам в тексте\n",
    "    for word in unique_words:\n",
    "        # Считаем количество вхождений текущего слова\n",
    "        word_count = words_list.count(word)\n",
    "        # Проверяем, что количество вхождений текущего слова в список слов больше текущего word_count.\n",
    "        if word_count > max_word_count:\n",
    "            # Если условие выполняется, переопределяем максимум и наиболее распространённое слово.\n",
    "            max_word_count = word_count\n",
    "            most_frequent_word = word\n",
    "    # Возвращаем результирующее самое популярное слово в тексте\n",
    "    return most_frequent_word\n",
    "\n",
    "print(get_most_frequent_word('a b a b'))"
   ]
  },
  {
   "cell_type": "code",
   "execution_count": 135,
   "metadata": {},
   "outputs": [
    {
     "name": "stdout",
     "output_type": "stream",
     "text": [
      "[('Amanda', 37, 78, 67, 182), ('Marcos', 79, 67, 89, 235), ('Dmitry', 67, 68, 100, 235), ('Patricia', 78, 93, 68, 239), ('Andrey', 100, 78, 76, 254), ('Victoria', 93, 69, 96, 258)]\n"
     ]
    }
   ],
   "source": [
    "def get_total_score(data):\n",
    "    data=list(map(lambda x: (*x,x[1]+x[2]+x[3]),data))\n",
    "    data=sorted(data,key=lambda x:x[4])\n",
    "    return data\n",
    "\n",
    "data = [\n",
    "    ('Amanda', 37, 78, 67),\n",
    "    ('Patricia', 78, 93, 68),\n",
    "    ('Marcos', 79, 67, 89),\n",
    "    ('Dmitry', 67, 68, 100),\n",
    "    ('Andrey', 100, 78, 76),\n",
    "    ('Victoria', 93, 69, 96),\n",
    "]\n",
    "print(get_total_score(data))"
   ]
  },
  {
   "cell_type": "code",
   "execution_count": 1,
   "metadata": {},
   "outputs": [
    {
     "name": "stdout",
     "output_type": "stream",
     "text": [
      "['vid001', 'vid002', 'vid003', 'vid004', 'vid005', 'vid006', 'vid007', 'vid008', 'vid009', 'vid010']\n"
     ]
    }
   ],
   "source": [
    "#6.10\n",
    "#Напишите рекурсивную функцию, которая извлекает все значения с ключом \"VideoID\". Функция должна принимать на вход словарь data и возвращать список из найденных идентификаторов видео.\n",
    "\n",
    "data = {\n",
    "    \"type\": \"video\",\n",
    "    \"videoID\": \"vid001\",\n",
    "    \"links\": [\n",
    "        {\"type\":\"video\", \"videoID\":\"vid002\", \"links\":[]},\n",
    "        {   \"type\":\"video\",\n",
    "            \"videoID\":\"vid003\",\n",
    "            \"links\": [\n",
    "            {\"type\": \"video\", \"videoID\":\"vid004\"},\n",
    "            {\"type\": \"video\", \"videoID\":\"vid005\"},\n",
    "            ]\n",
    "        },\n",
    "        {\"type\":\"video\", \"videoID\":\"vid006\"},\n",
    "        {   \"type\":\"video\",\n",
    "            \"videoID\":\"vid007\",\n",
    "            \"links\": [\n",
    "            {\"type\":\"video\", \"videoID\":\"vid008\", \"links\": [\n",
    "                {   \"type\":\"video\",\n",
    "                    \"videoID\":\"vid009\",\n",
    "                    \"links\": [{\"type\":\"video\", \"videoID\":\"vid010\"}]\n",
    "                }\n",
    "            ]}\n",
    "        ]},\n",
    "    ]\n",
    "}\n",
    "\n",
    "def find_video(data):\n",
    "    lst=[]\n",
    "    if isinstance(data,dict):\n",
    "        for key,value in data.items():\n",
    "            if key =='videoID':\n",
    "                lst.append(value)\n",
    "            else: \n",
    "                lst.extend(find_video(value))\n",
    "    elif isinstance(data,list):\n",
    "        for item in data:\n",
    "            lst.extend(find_video(item))\n",
    "    return lst\n",
    "\n",
    "print(find_video(data))\n"
   ]
  },
  {
   "cell_type": "code",
   "execution_count": 163,
   "metadata": {},
   "outputs": [
    {
     "name": "stdout",
     "output_type": "stream",
     "text": [
      "False\n",
      "<class 'dict'>\n"
     ]
    }
   ],
   "source": [
    "data = {\n",
    "    \"type\": \"video\",\n",
    "    \"videoID\": \"vid001\",\n",
    "    \"links\": [\n",
    "        {\"type\":\"video\", \"videoID\":\"vid002\", \"links\":[]},\n",
    "        {   \"type\":\"video\",\n",
    "            \"videoID\":\"vid003\",\n",
    "            \"links\": [\n",
    "            {\"type\": \"video\", \"videoID\":\"vid004\"},\n",
    "            {\"type\": \"video\", \"videoID\":\"vid005\"},\n",
    "            ]\n",
    "        },\n",
    "        {\"type\":\"video\", \"videoID\":\"vid006\"},\n",
    "        {   \"type\":\"video\",\n",
    "            \"videoID\":\"vid007\",\n",
    "            \"links\": [\n",
    "            {\"type\":\"video\", \"videoID\":\"vid008\", \"links\": [\n",
    "                {   \"type\":\"video\",\n",
    "                    \"videoID\":\"vid009\",\n",
    "                    \"links\": [{\"type\":\"video\", \"videoID\":\"vid010\"}]\n",
    "                }\n",
    "            ]}\n",
    "        ]},\n",
    "    ]\n",
    "}\n",
    "\n",
    "if clas(data)==:\n",
    "    print (True)\n",
    "else:\n",
    "    print(False)\n",
    "\n",
    "print(type(data))"
   ]
  },
  {
   "cell_type": "code",
   "execution_count": 28,
   "metadata": {},
   "outputs": [
    {
     "data": {
      "text/plain": [
       "True"
      ]
     },
     "execution_count": 28,
     "metadata": {},
     "output_type": "execute_result"
    }
   ],
   "source": [
    "#Unit 7 project\n",
    "#Небольшая частная сыроварня, которая делает поставки в разные рестораны, просит вас проанализировать их производство с целью его дальнейшего расширения.\n",
    "#Сыроварня предоставила данные о каждом из производимых ей сыров в виде словаря cheese_data. Ключами словаря являются названия сыров, а значениями — списки, в которых последовательно указываются следующие параметры сыра:\n",
    "#закупочная цена (рублей за 100 грамм);\n",
    "#максимальный объём производства (килограммов в месяц);\n",
    "#жирность (в процентах);\n",
    "#тип (твёрдый, полутвёрдый, мягкий, полумягкий).\n",
    "\n",
    "cheese_data = {\n",
    "    'чеддер': [370, 5000, 33, 'твердый'],\n",
    "    'пармезан': [510, 4000, 29, 'твердый'],\n",
    "    'гауда': [250, 3700, 27, 'полутвердый'],\n",
    "    'эдам': [220, 10000, 30, 'полутвердый'],\n",
    "    'горгонзола': [320, 3000, 32, 'полумягкий'],\n",
    "    'рокфор': [340, 15000, 31, 'полумягкий'],\n",
    "    'стилтон': [360, 7000, 35, 'полумягкий'],\n",
    "    'камамбер': [250, 8000, 24, 'мягкий'],\n",
    "    'бри': [310, 6500, 28, 'мягкий'],\n",
    "}\n",
    "\n",
    "a=cheese_data.items()\n",
    "list(a)[0][1][2]==33\n"
   ]
  },
  {
   "cell_type": "code",
   "execution_count": null,
   "metadata": {},
   "outputs": [],
   "source": []
  },
  {
   "cell_type": "code",
   "execution_count": null,
   "metadata": {},
   "outputs": [],
   "source": []
  },
  {
   "cell_type": "code",
   "execution_count": 33,
   "metadata": {},
   "outputs": [
    {
     "name": "stdout",
     "output_type": "stream",
     "text": [
      "{'пармезан': 29, 'гауда': 27, 'камамбер': 24, 'бри': 28}\n"
     ]
    }
   ],
   "source": [
    "#7.1\n",
    "\n",
    "#Напишите функцию filter_by_fat(), которая принимает на вход словарь cheese_data и число n и возвращает словарь, ключами которого являются названия сыров, подходящих под заданные критерии, а значениями — их жирность.\n",
    "cheese_data = {\n",
    "    'чеддер': [370, 5000, 33, 'твердый'],\n",
    "    'пармезан': [510, 4000, 29, 'твердый'],\n",
    "    'гауда': [250, 3700, 27, 'полутвердый'],\n",
    "    'эдам': [220, 10000, 30, 'полутвердый'],\n",
    "    'горгонзола': [320, 3000, 32, 'полумягкий'],\n",
    "    'рокфор': [340, 15000, 31, 'полумягкий'],\n",
    "    'стилтон': [360, 7000, 35, 'полумягкий'],\n",
    "    'камамбер': [250, 8000, 24, 'мягкий'],\n",
    "    'бри': [310, 6500, 28, 'мягкий'],\n",
    "}\n",
    "def filter_by_fat(cheese_data,n):\n",
    "    new_d={}\n",
    "    for k,v in cheese_data.items():\n",
    "        if v[2]<n:\n",
    "            new_d[k]=v[2]\n",
    "    return new_d\n",
    "print(filter_by_fat(cheese_data,30))"
   ]
  },
  {
   "cell_type": "code",
   "execution_count": 35,
   "metadata": {},
   "outputs": [
    {
     "name": "stdout",
     "output_type": "stream",
     "text": [
      "196100000\n"
     ]
    }
   ],
   "source": [
    "#7.2\n",
    "#Реализуйте функцию count_money(), которая принимает на вход словарь cheese_data и рассчитывает, сколько денег (в рублях) сможет в месяц зарабатывать сыроварня, если будет производить максимально возможное количество сыра.\n",
    "cheese_data = {\n",
    "    'чеддер': [370, 5000, 33, 'твердый'],\n",
    "    'пармезан': [510, 4000, 29, 'твердый'],\n",
    "    'гауда': [250, 3700, 27, 'полутвердый'],\n",
    "    'эдам': [220, 10000, 30, 'полутвердый'],\n",
    "    'горгонзола': [320, 3000, 32, 'полумягкий'],\n",
    "    'рокфор': [340, 15000, 31, 'полумягкий'],\n",
    "    'стилтон': [360, 7000, 35, 'полумягкий'],\n",
    "    'камамбер': [250, 8000, 24, 'мягкий'],\n",
    "    'бри': [310, 6500, 28, 'мягкий'],\n",
    "}\n",
    "def count_money(cheese_data):\n",
    "    tot=0\n",
    "    for k,v in cheese_data.items():\n",
    "        tot+= v[0]*10*v[1]\n",
    "    return tot\n",
    "print(count_money(cheese_data))"
   ]
  },
  {
   "cell_type": "code",
   "execution_count": 37,
   "metadata": {},
   "outputs": [
    {
     "data": {
      "text/plain": [
       "['камамбер', 'бри']"
      ]
     },
     "execution_count": 37,
     "metadata": {},
     "output_type": "execute_result"
    }
   ],
   "source": [
    "#7.3\n",
    "#Напишите функцию find_cheese_type(), которая по запросу типа сыра формирует список из названий сыров данного типа и возвращает его.\n",
    "cheese_data = {\n",
    "    'чеддер': [370, 5000, 33, 'твердый'],\n",
    "    'пармезан': [510, 4000, 29, 'твердый'],\n",
    "    'гауда': [250, 3700, 27, 'полутвердый'],\n",
    "    'эдам': [220, 10000, 30, 'полутвердый'],\n",
    "    'горгонзола': [320, 3000, 32, 'полумягкий'],\n",
    "    'рокфор': [340, 15000, 31, 'полумягкий'],\n",
    "    'стилтон': [360, 7000, 35, 'полумягкий'],\n",
    "    'камамбер': [250, 8000, 24, 'мягкий'],\n",
    "    'бри': [310, 6500, 28, 'мягкий'],\n",
    "}\n",
    "\n",
    "def find_cheese_type1(cheese_data, cheese_type):\n",
    "    lst=[]\n",
    "    for k,v in cheese_data.items():\n",
    "        if v[3]==cheese_type:\n",
    "            lst.append(k)\n",
    "    return lst\n",
    "\n",
    "#or\n",
    "\n",
    "def find_cheese_type2(cheese_data, cheese_type):\n",
    "    # Превращаем словарь в список кортежей\n",
    "    # С помощью функции filter() фильтруем те кортежи, у которых тип сыра соответствует заданному.\n",
    "    # Результат конвертируем обратно в словарь\n",
    "    filtered_dict = dict(filter(lambda x: x[1][3] == cheese_type, cheese_data.items()))\n",
    "    # Возвращаем ключи получившегося словаря\n",
    "    return list(filtered_dict.keys())\n"
   ]
  },
  {
   "cell_type": "code",
   "execution_count": 42,
   "metadata": {},
   "outputs": [
    {
     "name": "stdout",
     "output_type": "stream",
     "text": [
      "['эдам', 'гауда', 'камамбер', 'бри', 'горгонзола', 'рокфор', 'стилтон', 'чеддер', 'пармезан']\n"
     ]
    }
   ],
   "source": [
    "#7.4\n",
    "#Напишите функцию sort_cheese(), которая позволит отсортировать все сыры по возрастанию их стоимости (от самых дешёвых к самым дорогим) за 100 грамм продукта.\n",
    "#Функция должна возвращать список названий сыров в порядке возрастания цены.\n",
    "\n",
    "cheese_data = {\n",
    "    'чеддер': [370, 5000, 33, 'твердый'],\n",
    "    'пармезан': [510, 4000, 29, 'твердый'],\n",
    "    'гауда': [250, 3700, 27, 'полутвердый'],\n",
    "    'эдам': [220, 10000, 30, 'полутвердый'],\n",
    "    'горгонзола': [320, 3000, 32, 'полумягкий'],\n",
    "    'рокфор': [340, 15000, 31, 'полумягкий'],\n",
    "    'стилтон': [360, 7000, 35, 'полумягкий'],\n",
    "    'камамбер': [250, 8000, 24, 'мягкий'],\n",
    "    'бри': [310, 6500, 28, 'мягкий'],\n",
    "}\n",
    "\n",
    "def sort_cheese1(cheese_data):\n",
    "    lst1=[]\n",
    "    for k,v in cheese_data.items():\n",
    "        lst1.append((k,v[0]))\n",
    "    lst1=sorted(lst1,key=lambda x: x[1])\n",
    "    lst2=[]\n",
    "    for i in lst1:\n",
    "        lst2.append(i[0])\n",
    "    return lst2\n",
    "print(sort_cheese(cheese_data))\n",
    "\n",
    "#or\n",
    "\n",
    "def sort_cheese2(cheese_data):\n",
    "    # Превращаем словарь в список кортежей и сортируем список по цене\n",
    "    sorted_data = sorted(cheese_data.items(), key=lambda x: x[1][0])\n",
    "    # Превращаем кортеж обратно в словарь\n",
    "    sorted_data = dict(sorted_data)\n",
    "    # Составляем список из отсортированных ключей\n",
    "    return list(sorted_data.keys())"
   ]
  },
  {
   "cell_type": "code",
   "execution_count": 66,
   "metadata": {},
   "outputs": [
    {
     "name": "stdout",
     "output_type": "stream",
     "text": [
      "Вы продублировали ингредиент молоко коровье в заказе 3 раз(а)\n",
      "Вы продублировали ингредиент соль в заказе 3 раз(а)\n",
      "Вы продублировали ингредиент бактерии в заказе 2 раз(а)\n",
      "Вы продублировали ингредиент молоко овечье в заказе 2 раз(а)\n"
     ]
    }
   ],
   "source": [
    "#7.5\n",
    "#Все данные для закупки хранятся в списке ingredients. Вам необходимо проверить, нет ли в нём повторяющихся ингредиентов.\n",
    "#Для проверки уникальности ингредиентов напишите функцию purchase(). На вход функции подаётся список с ингредиентами. В результате работы функции на экран выводится фраза в зависимости от данных, хранящихся в списке:\n",
    "#Если все ингредиенты разные, выводится строка \"Ваш заказ оформлен верно\".\n",
    "#Если ингредиент дублируется, выводится строка \"Вы продублировали ингредиент {название ингредиента} в заказе {количество дублей} раз(а)\"\n",
    "\n",
    "def purchase1(ingredients):\n",
    "    set_ingredients=set(ingredients)\n",
    "    if len(set_ingredients)==len(ingredients):\n",
    "        print(\"Ваш заказ оформлен верно\")\n",
    "    else:\n",
    "        for word in set_ingredients:\n",
    "            word_count=ingredients.count(word)\n",
    "            if word_count>1:\n",
    "                print(\"Вы продублировали ингредиент {} в заказе {} раз(а)\".format(word,word_count))\n",
    "\n",
    "\n",
    "\n",
    "\n",
    "\n",
    "#ingredients = ['кислота уксусная', 'кислота лимонная', 'закваска', 'кислота молочная', 'пряность', 'бактерии', 'аннато', 'кальций', 'калий', 'специя', 'молоко коровье', 'молоко овечье', 'фермент', 'соль', 'сливки', 'грибки', 'ароматизатор', 'молоко козье', 'дрожжи', 'каротин']\n",
    "\n",
    "#purchase(ingredients)\n",
    "# Ваш заказ оформлен верно\n",
    "\n",
    "ingredients = ['молоко коровье', 'молоко овечье', 'бактерии', 'молоко козье', 'сливки', 'фермент', 'закваска', 'молоко коровье', 'соль', 'молоко коровье', 'бактерии', 'молоко овечье', 'кислота лимонная', 'грибки', 'соль', 'дрожжи', 'кислота уксусная', 'кальций', 'калий', 'каротин', 'аннато', 'специя', 'пряность', 'ароматизатор', 'соль', 'кислота молочная']\n",
    "\n",
    "purchase1(ingredients)\n",
    "    "
   ]
  },
  {
   "cell_type": "code",
   "execution_count": null,
   "metadata": {},
   "outputs": [],
   "source": [
    "#8.1\n",
    "input_string1 = input('Введите 1-ую последовательность идентификаторов: ')\n",
    "input_string2 = input('Введите 2-ую последовательность идентификаторов: ')\n",
    "\n",
    "\n",
    "def pure_intersection(input_string1,input_string2):\n",
    "\n",
    "    #преобразуем строки в списки чисел через split(по условию разделение между числами одинаковое - ', ')\n",
    "    input1=input_string1.split(', ')\n",
    "\n",
    "    #изменяем тип данных элементов списка на int через цикл и отлавливаем ошибка при вводе некорректных данных\n",
    "    for i in range(0,len(input1)):\n",
    "        try:\n",
    "            input1[i]=int(input1[i])\n",
    "        except ValueError:\n",
    "            print(\"Некорректный ввод\")\n",
    "            return None    \n",
    "\n",
    "    # повторяем для 2й переменной\n",
    "    input2=input_string2.split(', ')\n",
    "    for i in range(0,len(input2)):\n",
    "        try:\n",
    "            input2[i]=int(input2[i])\n",
    "        except ValueError:\n",
    "            print(\"Некорректный ввод\")\n",
    "            return None\n",
    "        \n",
    "    #преобразуем в множества, для удаления дубликатов\n",
    "    input1=set(input1)\n",
    "    input2=set(input2)\n",
    "\n",
    "    # получаем требуемый список пересечений через метод itersection\n",
    "    lst=list(input1.intersection(input2))\n",
    "    return lst\n",
    "pure_intersection(input_string1,input_string2)"
   ]
  },
  {
   "cell_type": "code",
   "execution_count": null,
   "metadata": {},
   "outputs": [],
   "source": [
    "#8.2\n",
    "input_string = input('Введите последовательность чисел: ')\n",
    "def find_min_max(input_string):\n",
    "    #меняем , на .\n",
    "    input_string=input_string.replace(',','.')\n",
    "\n",
    "    #преобразуем строкe в список через split(по условию разделение между числами одинаковое - ' ')\n",
    "    input1=input_string.split(' ')\n",
    "\n",
    "    #убираем из списка str с буквами\n",
    "    for i in input1:\n",
    "        if i.isalpha()==True:\n",
    "            input1.remove(i)\n",
    "\n",
    "    #преобразуем str в int,float\n",
    "    for i in range(0,len(input1)):\n",
    "        if '.' in input1[i]:\n",
    "            input1[i]=float(input1[i])\n",
    "        else:\n",
    "            input1[i]=int(input1[i])\n",
    "            \n",
    "    #выводим мин и макс    \n",
    "    print('Minimum: ',min(input1))\n",
    "    print('Maximum: ',max(input1))\n",
    "find_min_max(input_string)"
   ]
  },
  {
   "cell_type": "code",
   "execution_count": 29,
   "metadata": {},
   "outputs": [
    {
     "name": "stdout",
     "output_type": "stream",
     "text": [
      "[1, 2, 3, 5, 6]\n",
      "Median:  3.0\n"
     ]
    }
   ],
   "source": [
    "#8.3\n",
    "input_string = input('Введите последовательность чисел: ')\n",
    "def find_median(input_string):\n",
    "    #преобразуем строку в список через split(по условию разделение между числами одинаковое - ', ')\n",
    "    input1=input_string.split(', ')\n",
    "\n",
    "    #изменяем тип данных элементов списка на int,float через цикл и отлавливаем ошибку при вводе некорректных данных\n",
    "    for i in range(0,len(input1)):\n",
    "        try:\n",
    "            if '.' in input1[i]:\n",
    "                input1[i]=float(input1[i])\n",
    "            else:\n",
    "                input1[i]=int(input1[i])\n",
    "        except ValueError:\n",
    "            print(\"Некорректный ввод\")\n",
    "            return None\n",
    "    #сортируем по возрастанию\n",
    "    input1.sort()\n",
    "\n",
    "    #обозначаем переменную для значения медианы\n",
    "    median=0\n",
    "    # если кол-во элементов четное- медиану считаем по формуле\n",
    "    if len(input1)%2==0:\n",
    "\n",
    "        median= (input1[int(len(input1)/2-1)]+input1[int(len(input1)/2)])/2\n",
    "    #если список пустой выводим \"Некорректный ввод\" и возращаем None\n",
    "    elif len(input1)==0:\n",
    "            print(\"Некорректный ввод\")\n",
    "            return None\n",
    "    #если кол-во элементов нечетное - медиана равна элементу в середине списка\n",
    "    else:\n",
    "        median = input1[int(len(input1)/2 -0.5)]\n",
    "    \n",
    "    return print('Median: ',float(median))\n",
    "\n",
    "find_median(input_string)"
   ]
  },
  {
   "cell_type": "code",
   "execution_count": 61,
   "metadata": {},
   "outputs": [
    {
     "name": "stdout",
     "output_type": "stream",
     "text": [
      "триста тридцать три\n",
      "[300, 30, 3]\n"
     ]
    },
    {
     "data": {
      "text/plain": [
       "333"
      ]
     },
     "execution_count": 61,
     "metadata": {},
     "output_type": "execute_result"
    }
   ],
   "source": [
    "#8.4\n",
    "#Пользователь с клавиатуры (через функцию input()) вводит строку — описание числа словами на русском языке.\n",
    "#Напишите функцию transform_string_to_integer(), которая принимает на вход введённую пользователем строку, конвертирует слова в число и возвращает число, которое описано в строке s.\n",
    "#Примечания:\n",
    "#Минимальное число — ноль (0) включительно. Максимальное число — один миллион (1000000) включительно.\n",
    "#Гарантируется, что на вход подаются строки с описанием числа, проверять это не нужно.\n",
    "input_string = input('Введите число словами: ')\n",
    "\n",
    "def transform_string_to_integer(input_string):\n",
    "    number_word_dict = {\n",
    "    \"ты\": 1000, \"м\": 1000000,\n",
    "    \"сто\": 100, \"двес\": 200, \"трис\": 300, \"четырес\": 400, \"пятьс\": 500, \"шестьс\": 600, \"семьс\": 700, \"восемьс\": 800, \"девятьс\": 900,\n",
    "    \"одинн\": 11, \"двен\": 12, \"трин\": 13, \"четырн\": 14, \"пятн\": 15, \"шестн\": 16, \"семн\": 17, \"восемн\": 18, \"девятн\": 19,\n",
    "    \"двад\": 20, \"трид\": 30, \"сор\": 40, \"пятьд\": 50, \"шестьд\": 60, \"семьд\": 70, \"восемьд\": 80, \"девяно\": 90,\n",
    "    \"деc\": 10, \"н\": 0, \"о\": 1, \"дв\": 2, \"т\": 3, \"ч\": 4, \"п\": 5, \"ш\": 6, \"с\": 7, \"в\": 8, \"д\": 9, }\n",
    "\n",
    "    #создаем список слов\n",
    "    input1=input_string.split(' ')\n",
    "    #создаем вспомогательный список для чисел, \n",
    "    lst=[]\n",
    "    #цикл перебирает слова в списке input1\n",
    "    for i in input1:\n",
    "        #вложенный цикл перебирает ключи словаря number_word_dict\n",
    "        for k in number_word_dict.keys():\n",
    "            #создем переменную в которую сохраняем длину списка\n",
    "            lst_len=len(lst)\n",
    "            #задаем условие: если i начинается c k\n",
    "            if i.startswith(k):\n",
    "                #то добавляется значение из словаря по ключу\n",
    "                lst.append(number_word_dict[k])\n",
    "                # если значение(число) добавилось -> длина вспом. списка увеличилась-> \n",
    "                if len(lst)>lst_len:\n",
    "                    #прерываем вложеный цикл, чтобыизбежать добавления других элементов с таким же началом\n",
    "                    break\n",
    "    # создаем переменную для результата\n",
    "    result=0\n",
    "    # если в списке есть 1000\n",
    "    if 1000 in lst:\n",
    "        #то определяем индекс числа в списке lst\n",
    "        ind=lst.index(1000)\n",
    "        # и умножаем каждое число до найденого индекса на 1000, все суммируем в переменную result\n",
    "        for i in lst[:ind]:\n",
    "            result+=i*1000\n",
    "        # и прибавляем к результату числа расположенные после 1000\n",
    "        result+=sum(lst[ind+1:])\n",
    "    #если тысячинет, то просто определяем сумму значений в листе\n",
    "    else:\n",
    "        result=sum(lst)\n",
    "    #возвращаем результат\n",
    "    return result\n",
    "\n",
    "transform_string_to_integer(input_string)\n",
    "\n"
   ]
  },
  {
   "cell_type": "code",
   "execution_count": 83,
   "metadata": {},
   "outputs": [
    {
     "data": {
      "text/plain": [
       "'22! = 2^19 * 3^9 * 5^4 * 7^3 * 11^2 * 13 * 17 * 19'"
      ]
     },
     "execution_count": 83,
     "metadata": {},
     "output_type": "execute_result"
    }
   ],
   "source": [
    "#8.5\n",
    "#Пользователь с клавиатуры (через функцию input()) вводит некоторое целое число n.\n",
    "\n",
    "#Напишите функцию decompose_factorial(), которая будет принимать на вход введённое пользователем число n, а затем вычислять факториал этого числа и выполнять разложение факториала на простые множители.\n",
    "#Простые множители — это простые числа (не считая 1), на которые число делится без остатка.\n",
    "#Например, для числа  10  простыми множителями являются числа  5  и  2 . Для числа  28  множителями являются числа  7  и  4 , но простыми множителями будут числа  7  и  2 , так как  4  — это  2∗2 , а число  28  представляется в виде  28=7∗22 .\n",
    "\n",
    "n = input('Введите число: ')\n",
    "n=int(n)\n",
    "def decompose_factorial(n):\n",
    "    def factorial(n):\n",
    "        #базовый случай для выхода из рекурсии- если число равно 0 или 1\n",
    "        if n == 1 or n == 0:\n",
    "            return 1\n",
    "        #возвращаем факториал числа\n",
    "        return n * factorial(n-1)\n",
    "    #возвращаем факториал числа n в переменную а и используем ее входе в функцию получения списка множителей и остатка\n",
    "    a=factorial(n)\n",
    "\n",
    "\n",
    "    def Factor(a):\n",
    "        #создаем вспом. список для множителей\n",
    "        Ans = []\n",
    "        #задаем наименьший множитель\n",
    "        d = 2\n",
    "        #цикл работает пока квадрат множителя \"помещается в число\"\n",
    "        while d * d <= a:\n",
    "            #если число делится на множитель без остатка\n",
    "            if a % d == 0:\n",
    "                #вносим множитель в список для множиетелей\n",
    "                Ans.append(d)\n",
    "                #и обновляем число делением на множитель\n",
    "                a //= d\n",
    "            #а если не делится без остатка, увеличиваем множитель на 1\n",
    "            else:\n",
    "                d += 1\n",
    "        #увелечение множитель привело к тому, что мы вышли из цикла по условию\n",
    "        #если число разошлось на множители и осталась 1, то обращаемся к списку множителей\n",
    "        if a > 1:\n",
    "            # а если остаток меньше квадрата множителя в последней итерации цикла, то сохраняем его в переменную\n",
    "            resid=a\n",
    "        return Ans,resid\n",
    "    \n",
    "    lst1,resid=Factor(a)\n",
    "    \n",
    "    #определяем кол-во уникальных элементов в списке при помощи множества\n",
    "    set1= list(set(lst1))\n",
    "\n",
    "    #создаем переменную str для записи результат\n",
    "    result=''\n",
    "    #создаем цикл для записи множителей и их кол-ва степеней в переменную\n",
    "    for i in range(0,len(set1)):\n",
    "        #если степень =1 то записывает без ^\n",
    "        if lst1.count(set1[i])==1:\n",
    "            result+='{} * '.format(set1[i])\n",
    "        else:\n",
    "            result+='{}^{} * '.format(set1[i],lst1.count(set1[i]))\n",
    "    return '{}! = {}{}'.format(n,result,resid)\n",
    "decompose_factorial(n)\n",
    "    \n",
    "    \n"
   ]
  },
  {
   "cell_type": "code",
   "execution_count": 63,
   "metadata": {},
   "outputs": [
    {
     "name": "stdout",
     "output_type": "stream",
     "text": [
      "Start of iteration  2 28\n",
      "Start of iteration  2 14\n",
      "Start of iteration  2 7\n",
      "after cycling 7\n"
     ]
    },
    {
     "data": {
      "text/plain": [
       "[2, 2, 7]"
      ]
     },
     "execution_count": 63,
     "metadata": {},
     "output_type": "execute_result"
    }
   ],
   "source": [
    "def Factor(n):\n",
    "    #создаем вспом. список для множителей\n",
    "    Ans = []\n",
    "    #задаем наименьший множитель\n",
    "    d = 2\n",
    "    #цикл работает пока квадрат множителя \"помещается в число\"\n",
    "    while d * d <= n:\n",
    "        #если число делится на множитель без остатка\n",
    "        if n % d == 0:\n",
    "            #вносим множитель в список для множиетелей\n",
    "            Ans.append(d)\n",
    "            #и обновляем число делением на множитель\n",
    "            n //= d\n",
    "        #а если не делится без остатка, увеличиваем множитель на 1\n",
    "        else:\n",
    "            d += 1\n",
    "    #увелечение множитель привело к тому, что мы вышли из цикла по условию\n",
    "    #если число разошлось на множители и осталась 1, то обращаемся к списку множителей\n",
    "    if n > 1:\n",
    "        # а если остаток меньше квадрата множителя в последней итерации цикла, то вставляем его в список к множителям\n",
    "        Ans.append(n)\n",
    "    return Ans\n",
    "Factor(28)"
   ]
  },
  {
   "cell_type": "code",
   "execution_count": 13,
   "metadata": {},
   "outputs": [
    {
     "name": "stdout",
     "output_type": "stream",
     "text": [
      "на входе в функцию lst -  ['z', 'z', 'z', 'a', 'b']\n",
      "после прогона по 1 кругу алфавита -  ['z', 'a', 'b', 'a']\n",
      "после прогона по 1му кругу алфавита -  ['z', 'b', 'b']\n",
      "после прогона по 1му кругу алфавита -  ['z', 'c']\n",
      "cz\n"
     ]
    }
   ],
   "source": [
    "# 8.6\n",
    "s = input('Введите строку: ')\n",
    "\n",
    "def replace_duplicates(s):\n",
    "    import string\n",
    "    alphabet = string.ascii_lowercase\n",
    "    \n",
    "    lst=[]\n",
    "    for i in s:\n",
    "        lst.append(i)\n",
    "\n",
    "#    if type(s)==str:\n",
    "#        lst=[]\n",
    "#        for i in s:\n",
    "#            lst.append(i)\n",
    "#    elif type(s)==list:\n",
    "#        lst=s\n",
    "#    print('на входе в функцию lst - ',lst)    \n",
    "\n",
    "    for i in lst:\n",
    "\n",
    "        if i=='z' and lst.count(i)>1:\n",
    "            lst.remove(i)\n",
    "            lst.remove(i)\n",
    "            lst.append('a')\n",
    "            print('после прогона по 1 кругу алфавита - ',lst)\n",
    "\n",
    "        elif lst.count(i)>1:\n",
    "            lst.remove(i)\n",
    "            lst.remove(i)\n",
    "            lst.append(alphabet[alphabet.index(i)+1])\n",
    "            print('после прогона по 1му кругу алфавита - ',lst)\n",
    "        \n",
    "#    recur_par=lst\n",
    "#    recur_par.sort()\n",
    "#    uniq_recur_par=list(set(lst))\n",
    "#    uniq_recur_par.sort()\n",
    "    \n",
    "#    print('в параметрах сравнения не должно быть дубликатов для выхода из рекурсии',recur_par==uniq_recur_par)\n",
    "#    print('переход на след рекурсию', lst)\n",
    "#    if recur_par==uniq_recur_par:\n",
    "#            print(lst)\n",
    "#            s=''.join(lst)\n",
    "#            return s\n",
    "    s=''.join(lst)\n",
    "    return  s #replace_duplicates(s=lst)\n",
    "print(replace_duplicates(s))\n",
    "\n"
   ]
  },
  {
   "cell_type": "code",
   "execution_count": null,
   "metadata": {},
   "outputs": [],
   "source": [
    "# 8.6\n",
    "s = input('Введите строку: ')\n",
    "\n",
    "def replace_duplicates(s):\n",
    "    import string\n",
    "    alphabet = string.ascii_lowercase\n",
    "    #преобразуем str в lst\n",
    "    lst=[]\n",
    "    for i in s:\n",
    "        lst.append(i)\n",
    "    #проходим по списку символов,удаляем дубликаты,вместо них вставляем в конец списка след букву алфавита\n",
    "    for i in lst:\n",
    "\n",
    "        if i=='z' and lst.count(i)>1:\n",
    "            lst.remove(i)\n",
    "            lst.remove(i)\n",
    "            lst.append('a')\n",
    "\n",
    "\n",
    "        elif lst.count(i)>1:\n",
    "            lst.remove(i)\n",
    "            lst.remove(i)\n",
    "            lst.append(alphabet[alphabet.index(i)+1])\n",
    "        #объъединяем элементы списка в одну строку  \n",
    "        s=''.join(lst)\n",
    "    return  s \n",
    "print(replace_duplicates(s))"
   ]
  }
 ],
 "metadata": {
  "kernelspec": {
   "display_name": "Python 3",
   "language": "python",
   "name": "python3"
  },
  "language_info": {
   "codemirror_mode": {
    "name": "ipython",
    "version": 3
   },
   "file_extension": ".py",
   "mimetype": "text/x-python",
   "name": "python",
   "nbconvert_exporter": "python",
   "pygments_lexer": "ipython3",
   "version": "3.11.2"
  },
  "orig_nbformat": 4
 },
 "nbformat": 4,
 "nbformat_minor": 2
}
